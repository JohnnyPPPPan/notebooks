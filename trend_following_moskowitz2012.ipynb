{
 "cells": [
  {
   "cell_type": "markdown",
   "id": "616c4233",
   "metadata": {
    "papermill": {
     "duration": 0.005035,
     "end_time": "2024-06-11T09:55:31.184519",
     "exception": false,
     "start_time": "2024-06-11T09:55:31.179484",
     "status": "completed"
    },
    "tags": []
   },
   "source": [
    "# Trend-following\n",
    "\n",
    "This notebook displays the performance of trend-following strategies across major asset classes. The trend signal used here is the same as the one proposed in Moskowitz et al (2012) to illustrate the basic properties of trend-following strategies. Concretely, the signal at time $t$ is defined in the paper as follows:\n",
    "$$\n",
    "signal_t^s = {\\rm sign} \\left( r_{t-12, t}^{s} \\right) \\frac{40\\%}{\\sigma_{t}^{s}}  \n",
    "$$\n",
    "where $r_{t-12, t}^{s}$ is a return from time $t-12$ to $t$ for an instrument $s$ (return is measured on a monthly basis), $\\sigma_{t}^{s}$ is a trailing realised volatility. Therefore the trend signal is just binary based on the past 1 year returns, adjusted by the realised volatility to achieve the target volatility (40%).\n",
    "\n",
    "Note that like the notebook for long-only returns, results are computed by using a private library called `vivace`."
   ]
  },
  {
   "cell_type": "code",
   "execution_count": 1,
   "id": "1fbbebc8",
   "metadata": {
    "ExecuteTime": {
     "end_time": "2020-08-30T21:08:49.524262Z",
     "start_time": "2020-08-30T21:08:48.720115Z"
    },
    "execution": {
     "iopub.execute_input": "2024-06-11T09:55:31.195779Z",
     "iopub.status.busy": "2024-06-11T09:55:31.195527Z",
     "iopub.status.idle": "2024-06-11T09:55:34.739752Z",
     "shell.execute_reply": "2024-06-11T09:55:34.739094Z"
    },
    "papermill": {
     "duration": 3.551431,
     "end_time": "2024-06-11T09:55:34.741762",
     "exception": false,
     "start_time": "2024-06-11T09:55:31.190331",
     "status": "completed"
    },
    "tags": []
   },
   "outputs": [],
   "source": [
    "from datetime import datetime\n",
    "import logging\n",
    "import warnings\n",
    "warnings.simplefilter(action='ignore', category=FutureWarning)\n",
    "\n",
    "import pandas as pd\n",
    "import pytz\n",
    "import matplotlib.pyplot as plt\n",
    "plt.style.use('bmh')\n",
    "\n",
    "from vivace.backtest import signal\n",
    "from vivace.backtest import processing\n",
    "from vivace.backtest.contract import all_futures_moskowitz2012\n",
    "from vivace.backtest.engine import BacktestEngine\n",
    "from vivace.backtest.stats import Performance, PerfStats\n",
    "from vivace.enums import Strategy, Weighting"
   ]
  },
  {
   "cell_type": "markdown",
   "id": "1e015c3d",
   "metadata": {
    "papermill": {
     "duration": 0.00415,
     "end_time": "2024-06-11T09:55:34.750486",
     "exception": false,
     "start_time": "2024-06-11T09:55:34.746336",
     "status": "completed"
    },
    "tags": []
   },
   "source": [
    "# Data"
   ]
  },
  {
   "cell_type": "code",
   "execution_count": 2,
   "id": "919cd8d6",
   "metadata": {
    "ExecuteTime": {
     "end_time": "2020-08-30T21:08:49.529214Z",
     "start_time": "2020-08-30T21:08:49.525465Z"
    },
    "execution": {
     "iopub.execute_input": "2024-06-11T09:55:34.759946Z",
     "iopub.status.busy": "2024-06-11T09:55:34.759318Z",
     "iopub.status.idle": "2024-06-11T09:55:34.766417Z",
     "shell.execute_reply": "2024-06-11T09:55:34.765740Z"
    },
    "papermill": {
     "duration": 0.013444,
     "end_time": "2024-06-11T09:55:34.767835",
     "exception": false,
     "start_time": "2024-06-11T09:55:34.754391",
     "status": "completed"
    },
    "tags": []
   },
   "outputs": [
    {
     "data": {
      "text/plain": [
       "array(['Aluminium', 'Brent Crude Oil', 'Live Cattle', 'Cocoa', 'Coffee',\n",
       "       'Copper', 'Corn', 'Cotton', 'WTI Crude Oil', 'Gas Oil', 'Gold',\n",
       "       'Heating Oil', 'Lean Hog', 'Natural Gas', 'Nickel', 'Platinum',\n",
       "       'Silver', 'Soybean', 'Soybean Meal', 'Soybean Oil', 'Sugar',\n",
       "       'Gasoline', 'Wheat', 'Zinc', 'Australian Dollar', 'British Pound',\n",
       "       'Euro', 'Canadian Dollar', 'Japanese Yen', 'SPI 200', 'DAX',\n",
       "       'IBEX 35', 'CAC 40', 'Topix', 'AEX', 'FTSE 100', 'S&P 500',\n",
       "       'Australia 3-year Treasury', 'Australia 10-year Treasury',\n",
       "       'Germany Schatz', 'Germany Bobl', 'Germany Bund', 'Germany Buxl',\n",
       "       'Canada 10-year Treasury', 'JGB', 'Gilt', 'US 2-year Treasury',\n",
       "       'US 5-year Treasury', 'US 10-year Treasury', 'US Treasury Bond'],\n",
       "      dtype=object)"
      ]
     },
     "execution_count": 2,
     "metadata": {},
     "output_type": "execute_result"
    }
   ],
   "source": [
    "all_futures_moskowitz2012['name'].values"
   ]
  },
  {
   "cell_type": "code",
   "execution_count": 3,
   "id": "14e8df2c",
   "metadata": {
    "ExecuteTime": {
     "end_time": "2020-08-30T21:08:49.542477Z",
     "start_time": "2020-08-30T21:08:49.530487Z"
    },
    "execution": {
     "iopub.execute_input": "2024-06-11T09:55:34.777283Z",
     "iopub.status.busy": "2024-06-11T09:55:34.777003Z",
     "iopub.status.idle": "2024-06-11T09:55:34.781461Z",
     "shell.execute_reply": "2024-06-11T09:55:34.780854Z"
    },
    "papermill": {
     "duration": 0.011251,
     "end_time": "2024-06-11T09:55:34.783370",
     "exception": false,
     "start_time": "2024-06-11T09:55:34.772119",
     "status": "completed"
    },
    "tags": []
   },
   "outputs": [
    {
     "data": {
      "text/plain": [
       "50"
      ]
     },
     "execution_count": 3,
     "metadata": {},
     "output_type": "execute_result"
    }
   ],
   "source": [
    "len(all_futures_moskowitz2012)"
   ]
  },
  {
   "cell_type": "markdown",
   "id": "543b2387",
   "metadata": {
    "papermill": {
     "duration": 0.004431,
     "end_time": "2024-06-11T09:55:34.792708",
     "exception": false,
     "start_time": "2024-06-11T09:55:34.788277",
     "status": "completed"
    },
    "tags": []
   },
   "source": [
    "We try to use the same contract as the original paper where possible, resulting 50 futures contracts to analyse. The trading universe covers a wide range of asset classes and regions, and is made up of following instruments:\n",
    "- Equity index futures\n",
    "- Government bond futures\n",
    "- FX futures\n",
    "- Commodity futures\n",
    "\n",
    "where the same trend detection method is applied."
   ]
  },
  {
   "cell_type": "markdown",
   "id": "065d98bf",
   "metadata": {
    "papermill": {
     "duration": 0.004498,
     "end_time": "2024-06-11T09:55:34.802767",
     "exception": false,
     "start_time": "2024-06-11T09:55:34.798269",
     "status": "completed"
    },
    "tags": []
   },
   "source": [
    "# Performance\n",
    "\n",
    "## Run backtest\n",
    "We can initiate an engine instance by specifying certain signal methodologies. Here in addition to using the proposed trend signal formula, the signal is then observed on a monthly basis to be in line with the assumption of the paper. (defined in the `post_process` argument).  \n",
    "\n",
    "The calculation of signal itself requires just one line and is implemented like follows (in the `calculate` method):\n",
    "```python\n",
    "class TSMOMMoskowitz2012(TimeSeriesSignal):\n",
    "    def __init__(self, lookback: int = 252, shift: int = 2,\n",
    "                 post_process=processing.AsFreq(freq='m', method='pad')):\n",
    "        super().__init__()\n",
    "        self.lookback = lookback\n",
    "        self.shift = shift\n",
    "        self.post_process = post_process\n",
    "\n",
    "    def calculate(self, instrument_return: pd.Series, *args, **kwargs) -> pd.Series:\n",
    "        signal = instrument_return.rolling(self.lookback).sum().fillna(0).pipe(np.sign).shift(self.shift)\n",
    "        return signal\n",
    "```\n",
    "\n",
    "Furthermore, the ex-ante voaltility is measured by the exponentially weighted standard deviation with the center of mass of 60 days, as used in the paper. One difference from the paper is that the backtest also employs a cap on the volatility scaling (parameter `signal_cap`) in order to ensure that leverages are below trailing 95%ile. This is required for certain commodity futures because they had significantly large returns which could bankrupt the backtest in the early days."
   ]
  },
  {
   "cell_type": "code",
   "execution_count": null,
   "id": "31525cfd",
   "metadata": {
    "ExecuteTime": {
     "end_time": "2020-08-30T21:18:24.661167Z",
     "start_time": "2020-08-30T21:08:49.544232Z"
    },
    "papermill": {
     "duration": null,
     "end_time": null,
     "exception": false,
     "start_time": "2024-06-11T09:55:34.807306",
     "status": "running"
    },
    "tags": []
   },
   "outputs": [],
   "source": [
    "engine = BacktestEngine(\n",
    "    strategy=Strategy.DELTA_ONE.value,\n",
    "    instrument=all_futures_moskowitz2012.index,\n",
    "    signal=signal.ParallelSignal([\n",
    "        signal.VolatilityScale(agg_method='ewm', com=60, ann_factor=261, \n",
    "                               target_volatility=0.4, signal_cap=0.95,\n",
    "                               post_process=processing.AsFreq(freq='m', method='pad')),\n",
    "        signal.TSMOMMoskowitz2012(post_process=processing.AsFreq(freq='m', method='pad'))\n",
    "    ], weighting='product'),\n",
    "    weighting=Weighting.EQUAL_WEIGHT.value,\n",
    "    log_level=logging.WARN,\n",
    ")\n",
    "engine.run()"
   ]
  },
  {
   "cell_type": "markdown",
   "id": "8fac6d99",
   "metadata": {
    "papermill": {
     "duration": null,
     "end_time": null,
     "exception": null,
     "start_time": null,
     "status": "pending"
    },
    "tags": []
   },
   "source": [
    "## Portfolio\n",
    "\n",
    "The portfolio is constructed with a equal-risk (realised volatility) weighting methodology. This is simple to compute however in practice this is not desiable because of various reasons. The biggest reason is liquidity because not all of the futures have the same liquidity. Certainly S&P500 futures would have much deeper liquidity than some other isoteric commodity futures."
   ]
  },
  {
   "cell_type": "code",
   "execution_count": null,
   "id": "434ff601",
   "metadata": {
    "ExecuteTime": {
     "end_time": "2020-08-30T21:19:28.992288Z",
     "start_time": "2020-08-30T21:18:24.662276Z"
    },
    "papermill": {
     "duration": null,
     "end_time": null,
     "exception": null,
     "start_time": null,
     "status": "pending"
    },
    "tags": []
   },
   "outputs": [],
   "source": [
    "portfolio_return = (engine.calculate_equity_curve(calculate_net=False, rebalance_freq='m')\n",
    "                    .rename('Trend-following portfolio (Moskowitz 2012)'))"
   ]
  },
  {
   "cell_type": "markdown",
   "id": "2ef78a3e",
   "metadata": {
    "papermill": {
     "duration": null,
     "end_time": null,
     "exception": null,
     "start_time": null,
     "status": "pending"
    },
    "tags": []
   },
   "source": [
    "This portfolio worked well over 60 years with a Sharpe ratio of above 1.0 (gross of costs), however notice that this naive implementation of trend following seems to have somewhat weakened since around 2015."
   ]
  },
  {
   "cell_type": "code",
   "execution_count": null,
   "id": "63c6c741-fe27-4aa3-a5f8-ec70bfd9063e",
   "metadata": {
    "papermill": {
     "duration": null,
     "end_time": null,
     "exception": null,
     "start_time": null,
     "status": "pending"
    },
    "tags": []
   },
   "outputs": [],
   "source": [
    "fig, ax = plt.subplots(figsize=(8, 4.5))\n",
    "portfolio_return.plot(ax=ax, logy=True);\n",
    "ax.set_title('Trend-following portfolio (Moskowitz 2012)')\n",
    "ax.set_ylabel('Cumulative returns');"
   ]
  },
  {
   "cell_type": "code",
   "execution_count": null,
   "id": "ebd86ada-d100-43de-907a-d307887399c9",
   "metadata": {
    "papermill": {
     "duration": null,
     "end_time": null,
     "exception": null,
     "start_time": null,
     "status": "pending"
    },
    "tags": []
   },
   "outputs": [],
   "source": [
    "portfolio_return.pipe(Performance).summary()"
   ]
  },
  {
   "cell_type": "markdown",
   "id": "52ec2eaa",
   "metadata": {
    "papermill": {
     "duration": null,
     "end_time": null,
     "exception": null,
     "start_time": null,
     "status": "pending"
    },
    "tags": []
   },
   "source": [
    "## Breakdown by futures contract\n",
    "\n",
    "Most of the contracts contributed positively when the trend-following signal is applied."
   ]
  },
  {
   "cell_type": "code",
   "execution_count": null,
   "id": "b03a89a1",
   "metadata": {
    "ExecuteTime": {
     "end_time": "2020-08-30T21:20:30.856989Z",
     "start_time": "2020-08-30T21:19:29.723274Z"
    },
    "papermill": {
     "duration": null,
     "end_time": null,
     "exception": null,
     "start_time": null,
     "status": "pending"
    },
    "tags": []
   },
   "outputs": [],
   "source": [
    "instrument_returns = engine.get_return_by_instrument(calculate_net=False).cumsum()"
   ]
  },
  {
   "cell_type": "code",
   "execution_count": null,
   "id": "fa811510",
   "metadata": {
    "ExecuteTime": {
     "end_time": "2020-08-30T21:20:31.258799Z",
     "start_time": "2020-08-30T21:20:30.858285Z"
    },
    "papermill": {
     "duration": null,
     "end_time": null,
     "exception": null,
     "start_time": null,
     "status": "pending"
    },
    "scrolled": true,
    "tags": []
   },
   "outputs": [],
   "source": [
    "instrument_sharpe = (instrument_returns.pipe(Performance, return_type='diff').summary()\n",
    "                     .loc[PerfStats.SHARPE.value, :]\n",
    "                     .to_frame().join(all_futures_moskowitz2012)\n",
    "                     .sort_values(['asset_class', 'name'])\n",
    "                     .set_index('name')\n",
    "                     .squeeze())"
   ]
  },
  {
   "cell_type": "code",
   "execution_count": null,
   "id": "a067c7c4-a5a5-4066-9fc9-b00e8c923f41",
   "metadata": {
    "papermill": {
     "duration": null,
     "end_time": null,
     "exception": null,
     "start_time": null,
     "status": "pending"
    },
    "tags": []
   },
   "outputs": [],
   "source": [
    "fig, ax = plt.subplots(figsize=(14, 4))\n",
    "instrument_sharpe.plot(kind='bar', ax=ax)\n",
    "\n",
    "ax.set_title('Trend-following (Moskowitz 2012) Sharpe ratio')\n",
    "ax.set_ylabel(PerfStats.SHARPE.value);\n",
    "ax.set_xlabel('Instrument name')\n",
    "ax.axhline(0, lw=1, color='black');\n",
    "ax.axvline(23.5, lw=1, color='black');\n",
    "ax.axvline(28.5, lw=1, color='black');\n",
    "ax.axvline(36.5, lw=1, color='black');"
   ]
  },
  {
   "cell_type": "markdown",
   "id": "3b5bd33f",
   "metadata": {
    "papermill": {
     "duration": null,
     "end_time": null,
     "exception": null,
     "start_time": null,
     "status": "pending"
    },
    "tags": []
   },
   "source": [
    "## Post puiblication"
   ]
  },
  {
   "cell_type": "code",
   "execution_count": null,
   "id": "c2b904e7",
   "metadata": {
    "ExecuteTime": {
     "end_time": "2020-08-30T21:20:32.222886Z",
     "start_time": "2020-08-30T21:20:31.709152Z"
    },
    "papermill": {
     "duration": null,
     "end_time": null,
     "exception": null,
     "start_time": null,
     "status": "pending"
    },
    "tags": []
   },
   "outputs": [],
   "source": [
    "publication_date = datetime(2011, 12, 11)\n",
    "\n",
    "fig, ax = plt.subplots(1, 2, figsize=(14, 4))\n",
    "portfolio_return.plot(ax=ax[0], logy=True);\n",
    "ax[0].set_title('Trend-following portfolio (Moskowitz 2012)')\n",
    "ax[0].set_ylabel('Cumulative returns');\n",
    "ax[0].axvline(publication_date, lw=1, ls='--', color='black')\n",
    "ax[0].text(publication_date, 100, 'Publication date ', ha='right')\n",
    "\n",
    "portfolio_return.loc[publication_date:].plot(ax=ax[1], logy=True);\n",
    "ax[1].set_title('Trend-following portfolio\\n(Moskowitz 2012, post publication)');"
   ]
  },
  {
   "cell_type": "markdown",
   "id": "433dfd45",
   "metadata": {
    "papermill": {
     "duration": null,
     "end_time": null,
     "exception": null,
     "start_time": null,
     "status": "pending"
    },
    "tags": []
   },
   "source": [
    "## Recent performance"
   ]
  },
  {
   "cell_type": "code",
   "execution_count": null,
   "id": "76b06e40",
   "metadata": {
    "ExecuteTime": {
     "end_time": "2020-08-30T21:20:32.428386Z",
     "start_time": "2020-08-30T21:20:32.223928Z"
    },
    "papermill": {
     "duration": null,
     "end_time": null,
     "exception": null,
     "start_time": null,
     "status": "pending"
    },
    "tags": []
   },
   "outputs": [],
   "source": [
    "fig, ax = plt.subplots(figsize=(8, 4.5))\n",
    "portfolio_return.tail(252 * 2).plot(ax=ax, logy=True);\n",
    "ax.set_title('Trend-following portfolio (Moskowitz 2012)')\n",
    "ax.set_ylabel('Cumulative returns');"
   ]
  },
  {
   "cell_type": "markdown",
   "id": "53e7b68f",
   "metadata": {
    "papermill": {
     "duration": null,
     "end_time": null,
     "exception": null,
     "start_time": null,
     "status": "pending"
    },
    "tags": []
   },
   "source": [
    "# Reference\n",
    "\n",
    "- Moskowitz, T.J., Ooi, Y.H. and Pedersen, L.H., 2012. Time series momentum. Journal of financial economics, 104(2), pp.228-250."
   ]
  },
  {
   "cell_type": "code",
   "execution_count": null,
   "id": "e2c49146",
   "metadata": {
    "ExecuteTime": {
     "end_time": "2020-08-30T21:20:32.431574Z",
     "start_time": "2020-08-30T21:20:32.429370Z"
    },
    "papermill": {
     "duration": null,
     "end_time": null,
     "exception": null,
     "start_time": null,
     "status": "pending"
    },
    "tags": []
   },
   "outputs": [],
   "source": [
    "print(f'Updated: {datetime.now(pytz.utc).strftime(\"%d-%b-%Y %H:%M\")}')"
   ]
  }
 ],
 "metadata": {
  "hide_input": false,
  "kernelspec": {
   "display_name": "Python 3 (ipykernel)",
   "language": "python",
   "name": "python3"
  },
  "language_info": {
   "codemirror_mode": {
    "name": "ipython",
    "version": 3
   },
   "file_extension": ".py",
   "mimetype": "text/x-python",
   "name": "python",
   "nbconvert_exporter": "python",
   "pygments_lexer": "ipython3",
   "version": "3.12.3"
  },
  "nav_menu": {},
  "papermill": {
   "default_parameters": {},
   "duration": null,
   "end_time": null,
   "environment_variables": {},
   "exception": null,
   "input_path": "notebooks/papermill/trend_following_moskowitz2012.ipynb",
   "output_path": "notebooks/trend_following_moskowitz2012.ipynb",
   "parameters": {},
   "start_time": "2024-06-11T09:55:29.925653",
   "version": "2.4.0"
  },
  "toc": {
   "base_numbering": 1,
   "nav_menu": {},
   "number_sections": true,
   "sideBar": true,
   "skip_h1_title": false,
   "title_cell": "Table of Contents",
   "title_sidebar": "Contents",
   "toc_cell": true,
   "toc_position": {
    "height": "calc(100% - 180px)",
    "left": "10px",
    "top": "150px",
    "width": "165px"
   },
   "toc_section_display": "block",
   "toc_window_display": true
  }
 },
 "nbformat": 4,
 "nbformat_minor": 5
}