{
 "cells": [
  {
   "cell_type": "markdown",
   "id": "bb6881b6",
   "metadata": {
    "papermill": {
     "duration": 0.026149,
     "end_time": "2024-06-22T09:58:08.967779",
     "exception": false,
     "start_time": "2024-06-22T09:58:08.941630",
     "status": "completed"
    },
    "tags": []
   },
   "source": [
    "# Commodity crush spread statistical arbitrage\n",
    "\n",
    "This notebook investigates the analysis done in Simon 1999 which is about the crush spread in soybean complex. The crush spread in soybean (soybean, soybean mean and soybeam oil) appears to be mean-reverting both in the short-term and long-term. The author suggests to employ a mean-reversion strategy to capture this price pattern."
   ]
  },
  {
   "cell_type": "code",
   "execution_count": 1,
   "id": "17f767b3",
   "metadata": {
    "execution": {
     "iopub.execute_input": "2024-06-22T09:58:09.057826Z",
     "iopub.status.busy": "2024-06-22T09:58:09.057520Z",
     "iopub.status.idle": "2024-06-22T09:58:12.977990Z",
     "shell.execute_reply": "2024-06-22T09:58:12.977422Z"
    },
    "papermill": {
     "duration": 3.944063,
     "end_time": "2024-06-22T09:58:12.979654",
     "exception": false,
     "start_time": "2024-06-22T09:58:09.035591",
     "status": "completed"
    },
    "tags": []
   },
   "outputs": [],
   "source": [
    "from datetime import datetime\n",
    "import logging\n",
    "import warnings\n",
    "warnings.simplefilter(action='ignore', category=FutureWarning)\n",
    "\n",
    "import pandas as pd\n",
    "import pytz\n",
    "import statsmodels.api as sm\n",
    "import matplotlib.pyplot as plt\n",
    "plt.style.use('bmh')\n",
    "\n",
    "from vivace.backtest import signal\n",
    "from vivace.backtest.analytics import rebase\n",
    "from vivace.backtest.contract import InstrumentDef\n",
    "from vivace.backtest.engine import BacktestEngine\n",
    "from vivace.backtest.stats import Performance\n",
    "from vivace.enums import Strategy, Weighting"
   ]
  },
  {
   "cell_type": "markdown",
   "id": "a37e6343",
   "metadata": {
    "papermill": {
     "duration": 0.024163,
     "end_time": "2024-06-22T09:58:13.021627",
     "exception": false,
     "start_time": "2024-06-22T09:58:12.997464",
     "status": "completed"
    },
    "tags": []
   },
   "source": [
    "# The soybean crush spread"
   ]
  },
  {
   "cell_type": "markdown",
   "id": "d585355d",
   "metadata": {
    "papermill": {
     "duration": 0.018651,
     "end_time": "2024-06-22T09:58:13.061237",
     "exception": false,
     "start_time": "2024-06-22T09:58:13.042586",
     "status": "completed"
    },
    "tags": []
   },
   "source": [
    "## USDA estimates 1988\n",
    "\n",
    "First we get the generic price time-series of the front contracts for soybean, meal and oil."
   ]
  },
  {
   "cell_type": "code",
   "execution_count": 2,
   "id": "11784c9b",
   "metadata": {
    "execution": {
     "iopub.execute_input": "2024-06-22T09:58:13.103780Z",
     "iopub.status.busy": "2024-06-22T09:58:13.103533Z",
     "iopub.status.idle": "2024-06-22T09:58:21.200470Z",
     "shell.execute_reply": "2024-06-22T09:58:21.199776Z"
    },
    "papermill": {
     "duration": 8.123508,
     "end_time": "2024-06-22T09:58:21.202542",
     "exception": false,
     "start_time": "2024-06-22T09:58:13.079034",
     "status": "completed"
    },
    "tags": []
   },
   "outputs": [],
   "source": [
    "soybean_1st = BacktestEngine(instrument='S', log_level=logging.WARN)\n",
    "soybean_1st.run()"
   ]
  },
  {
   "cell_type": "code",
   "execution_count": 3,
   "id": "8874bd3f",
   "metadata": {
    "execution": {
     "iopub.execute_input": "2024-06-22T09:58:21.255857Z",
     "iopub.status.busy": "2024-06-22T09:58:21.255625Z",
     "iopub.status.idle": "2024-06-22T09:58:30.115842Z",
     "shell.execute_reply": "2024-06-22T09:58:30.115128Z"
    },
    "papermill": {
     "duration": 8.888969,
     "end_time": "2024-06-22T09:58:30.117903",
     "exception": false,
     "start_time": "2024-06-22T09:58:21.228934",
     "status": "completed"
    },
    "tags": []
   },
   "outputs": [],
   "source": [
    "soybean_meal_1st = BacktestEngine(instrument='SM', log_level=logging.WARN)\n",
    "soybean_meal_1st.run()"
   ]
  },
  {
   "cell_type": "code",
   "execution_count": 4,
   "id": "a64c7fe0",
   "metadata": {
    "execution": {
     "iopub.execute_input": "2024-06-22T09:58:30.172654Z",
     "iopub.status.busy": "2024-06-22T09:58:30.172394Z",
     "iopub.status.idle": "2024-06-22T09:58:38.290328Z",
     "shell.execute_reply": "2024-06-22T09:58:38.289589Z"
    },
    "papermill": {
     "duration": 8.147708,
     "end_time": "2024-06-22T09:58:38.292492",
     "exception": false,
     "start_time": "2024-06-22T09:58:30.144784",
     "status": "completed"
    },
    "tags": []
   },
   "outputs": [],
   "source": [
    "soybean_oil_1st = BacktestEngine(instrument='BO', log_level=logging.WARN)\n",
    "soybean_oil_1st.run()"
   ]
  },
  {
   "cell_type": "code",
   "execution_count": 5,
   "id": "09eafbc3",
   "metadata": {
    "execution": {
     "iopub.execute_input": "2024-06-22T09:58:38.346296Z",
     "iopub.status.busy": "2024-06-22T09:58:38.345990Z",
     "iopub.status.idle": "2024-06-22T09:58:54.950371Z",
     "shell.execute_reply": "2024-06-22T09:58:54.949706Z"
    },
    "papermill": {
     "duration": 16.634026,
     "end_time": "2024-06-22T09:58:54.951921",
     "exception": false,
     "start_time": "2024-06-22T09:58:38.317895",
     "status": "completed"
    },
    "tags": []
   },
   "outputs": [],
   "source": [
    "soybean_price = soybean_1st.get_generic_price()\n",
    "soybean_meal_price = soybean_meal_1st.get_generic_price()\n",
    "soybean_oil_price = soybean_oil_1st.get_generic_price()"
   ]
  },
  {
   "cell_type": "markdown",
   "id": "1f5ec6e9",
   "metadata": {
    "papermill": {
     "duration": 0.016244,
     "end_time": "2024-06-22T09:58:54.984957",
     "exception": false,
     "start_time": "2024-06-22T09:58:54.968713",
     "status": "completed"
    },
    "tags": []
   },
   "source": [
    "Note that each futures prices use different units. *Ignoreing the inherent leverage* in the futures contracts, they each are priced in the following units:\n",
    "- Soybean meal price is per 1 ton\n",
    "- Soybean oil price is per 100 pounds\n",
    "- Soybean price is per 100 bushels"
   ]
  },
  {
   "cell_type": "code",
   "execution_count": 6,
   "id": "c3a3d2a5",
   "metadata": {
    "execution": {
     "iopub.execute_input": "2024-06-22T09:58:55.035663Z",
     "iopub.status.busy": "2024-06-22T09:58:55.035241Z",
     "iopub.status.idle": "2024-06-22T09:58:55.042170Z",
     "shell.execute_reply": "2024-06-22T09:58:55.041500Z"
    },
    "papermill": {
     "duration": 0.038573,
     "end_time": "2024-06-22T09:58:55.043761",
     "exception": false,
     "start_time": "2024-06-22T09:58:55.005188",
     "status": "completed"
    },
    "tags": []
   },
   "outputs": [],
   "source": [
    "gcm = (soybean_meal_price.squeeze().div(2000).mul(48) + \n",
    "       soybean_oil_price.squeeze().div(100).mul(11) - \n",
    "       soybean_price.squeeze().div(100))"
   ]
  },
  {
   "cell_type": "markdown",
   "id": "42ae10b6",
   "metadata": {
    "papermill": {
     "duration": 0.023667,
     "end_time": "2024-06-22T09:58:55.087912",
     "exception": false,
     "start_time": "2024-06-22T09:58:55.064245",
     "status": "completed"
    },
    "tags": []
   },
   "source": [
    "The chart below reproduces the gross crush margin estimated by USDA 1988."
   ]
  },
  {
   "cell_type": "code",
   "execution_count": 7,
   "id": "034a5bb8",
   "metadata": {
    "execution": {
     "iopub.execute_input": "2024-06-22T09:58:55.131273Z",
     "iopub.status.busy": "2024-06-22T09:58:55.130989Z",
     "iopub.status.idle": "2024-06-22T09:58:55.500837Z",
     "shell.execute_reply": "2024-06-22T09:58:55.500041Z"
    },
    "papermill": {
     "duration": 0.395222,
     "end_time": "2024-06-22T09:58:55.502917",
     "exception": false,
     "start_time": "2024-06-22T09:58:55.107695",
     "status": "completed"
    },
    "tags": []
   },
   "outputs": [
    {
     "data": {
      "image/png": "[encoded data removed]",
      "text/plain": [
       "<Figure size 800x500 with 1 Axes>"
      ]
     },
     "metadata": {},
     "output_type": "display_data"
    }
   ],
   "source": [
    "fig, ax = plt.subplots(figsize=(8, 5))\n",
    "gcm['1985':'1995'].plot(ax=ax);\n",
    "ax.set_ylabel('Gross crush margin ($)')\n",
    "ax.set_title('The soybean crush spread (USDA estimates 1988)');"
   ]
  },
  {
   "cell_type": "markdown",
   "id": "44c9e6df",
   "metadata": {
    "papermill": {
     "duration": 0.021169,
     "end_time": "2024-06-22T09:58:55.545619",
     "exception": false,
     "start_time": "2024-06-22T09:58:55.524450",
     "status": "completed"
    },
    "tags": []
   },
   "source": [
    "The next chart shows a long-term perspective. As mentioned in Simon 1999, this spread does not necessarily represent a long-run equilibrium because the amount of mean and oil can vary depending on the growing condition."
   ]
  },
  {
   "cell_type": "code",
   "execution_count": 8,
   "id": "81c7ac2e",
   "metadata": {
    "execution": {
     "iopub.execute_input": "2024-06-22T09:58:55.589486Z",
     "iopub.status.busy": "2024-06-22T09:58:55.589118Z",
     "iopub.status.idle": "2024-06-22T09:58:55.885902Z",
     "shell.execute_reply": "2024-06-22T09:58:55.885268Z"
    },
    "papermill": {
     "duration": 0.322322,
     "end_time": "2024-06-22T09:58:55.888766",
     "exception": false,
     "start_time": "2024-06-22T09:58:55.566444",
     "status": "completed"
    },
    "tags": []
   },
   "outputs": [
    {
     "data": {
      "image/png": "[encoded data removed]",
      "text/plain": [
       "<Figure size 800x500 with 1 Axes>"
      ]
     },
     "metadata": {},
     "output_type": "display_data"
    }
   ],
   "source": [
    "fig, ax = plt.subplots(figsize=(8, 5))\n",
    "gcm.plot(ax=ax);\n",
    "ax.set_ylabel('Gross crush margin ($)')\n",
    "ax.set_title('The soybean crush spread (USDA estimates 1988)');"
   ]
  },
  {
   "cell_type": "markdown",
   "id": "9133862a",
   "metadata": {
    "papermill": {
     "duration": 0.021102,
     "end_time": "2024-06-22T09:58:55.934634",
     "exception": false,
     "start_time": "2024-06-22T09:58:55.913532",
     "status": "completed"
    },
    "tags": []
   },
   "source": [
    "## Long-run equilibrium"
   ]
  },
  {
   "cell_type": "code",
   "execution_count": 9,
   "id": "ce4b1c17",
   "metadata": {
    "execution": {
     "iopub.execute_input": "2024-06-22T09:58:55.980767Z",
     "iopub.status.busy": "2024-06-22T09:58:55.980189Z",
     "iopub.status.idle": "2024-06-22T09:58:55.991503Z",
     "shell.execute_reply": "2024-06-22T09:58:55.990667Z"
    },
    "papermill": {
     "duration": 0.036287,
     "end_time": "2024-06-22T09:58:55.993754",
     "exception": false,
     "start_time": "2024-06-22T09:58:55.957467",
     "status": "completed"
    },
    "tags": []
   },
   "outputs": [],
   "source": [
    "price_concat = pd.concat((\n",
    "    soybean_meal_price,\n",
    "    soybean_oil_price,\n",
    "    soybean_price.div(100),\n",
    "), axis=1).fillna(method='pad').dropna()"
   ]
  },
  {
   "cell_type": "code",
   "execution_count": 10,
   "id": "c10e0981",
   "metadata": {
    "execution": {
     "iopub.execute_input": "2024-06-22T09:58:56.058093Z",
     "iopub.status.busy": "2024-06-22T09:58:56.057718Z",
     "iopub.status.idle": "2024-06-22T09:58:56.065177Z",
     "shell.execute_reply": "2024-06-22T09:58:56.064362Z"
    },
    "papermill": {
     "duration": 0.044611,
     "end_time": "2024-06-22T09:58:56.067313",
     "exception": false,
     "start_time": "2024-06-22T09:58:56.022702",
     "status": "completed"
    },
    "tags": []
   },
   "outputs": [],
   "source": [
    "month_dummies = pd.get_dummies(pd.Series(price_concat.index.month, index=price_concat.index))\n",
    "month_dummies = month_dummies.drop(12, axis=1).add_prefix('month_').astype(int)\n",
    "trend = pd.Series(range(len(price_concat)), index=price_concat.index, name='trend')"
   ]
  },
  {
   "cell_type": "code",
   "execution_count": 11,
   "id": "67b33a3e",
   "metadata": {
    "execution": {
     "iopub.execute_input": "2024-06-22T09:58:56.117657Z",
     "iopub.status.busy": "2024-06-22T09:58:56.117033Z",
     "iopub.status.idle": "2024-06-22T09:58:56.122084Z",
     "shell.execute_reply": "2024-06-22T09:58:56.121331Z"
    },
    "papermill": {
     "duration": 0.029065,
     "end_time": "2024-06-22T09:58:56.123728",
     "exception": false,
     "start_time": "2024-06-22T09:58:56.094663",
     "status": "completed"
    },
    "tags": []
   },
   "outputs": [],
   "source": [
    "ols_data = pd.concat((price_concat, trend, month_dummies), axis=1)"
   ]
  },
  {
   "cell_type": "code",
   "execution_count": 12,
   "id": "ada1c057",
   "metadata": {
    "execution": {
     "iopub.execute_input": "2024-06-22T09:58:56.168944Z",
     "iopub.status.busy": "2024-06-22T09:58:56.168453Z",
     "iopub.status.idle": "2024-06-22T09:58:56.179097Z",
     "shell.execute_reply": "2024-06-22T09:58:56.178351Z"
    },
    "papermill": {
     "duration": 0.034953,
     "end_time": "2024-06-22T09:58:56.181148",
     "exception": false,
     "start_time": "2024-06-22T09:58:56.146195",
     "status": "completed"
    },
    "tags": []
   },
   "outputs": [],
   "source": [
    "ols_y = ols_data['S']\n",
    "ols_x = sm.add_constant(ols_data.drop('S', axis=1))"
   ]
  },
  {
   "cell_type": "code",
   "execution_count": 13,
   "id": "ece71592",
   "metadata": {
    "execution": {
     "iopub.execute_input": "2024-06-22T09:58:56.236661Z",
     "iopub.status.busy": "2024-06-22T09:58:56.236407Z",
     "iopub.status.idle": "2024-06-22T09:58:56.303485Z",
     "shell.execute_reply": "2024-06-22T09:58:56.301386Z"
    },
    "papermill": {
     "duration": 0.094528,
     "end_time": "2024-06-22T09:58:56.305669",
     "exception": false,
     "start_time": "2024-06-22T09:58:56.211141",
     "status": "completed"
    },
    "tags": []
   },
   "outputs": [],
   "source": [
    "ols_model = sm.OLS(ols_y.loc['1985':'1995-02'], \n",
    "                   ols_x.loc['1985':'1995-02'])\n",
    "ols_results = ols_model.fit()"
   ]
  },
  {
   "cell_type": "markdown",
   "id": "320530a0",
   "metadata": {
    "papermill": {
     "duration": 0.028654,
     "end_time": "2024-06-22T09:58:56.369980",
     "exception": false,
     "start_time": "2024-06-22T09:58:56.341326",
     "status": "completed"
    },
    "tags": []
   },
   "source": [
    "The result below is broadly in line with the table 2 in Simon 1999. There is a strong seasonality in this result where the crush spread tends to be lower in the growing season from February to June, while it tends to be higher in September to November. This can be attributed to the relative scarcity in soybeans during the growing season."
   ]
  },
  {
   "cell_type": "code",
   "execution_count": 14,
   "id": "e97b5238",
   "metadata": {
    "execution": {
     "iopub.execute_input": "2024-06-22T09:58:56.428591Z",
     "iopub.status.busy": "2024-06-22T09:58:56.428245Z",
     "iopub.status.idle": "2024-06-22T09:58:56.528327Z",
     "shell.execute_reply": "2024-06-22T09:58:56.527643Z"
    },
    "papermill": {
     "duration": 0.132475,
     "end_time": "2024-06-22T09:58:56.530295",
     "exception": false,
     "start_time": "2024-06-22T09:58:56.397820",
     "status": "completed"
    },
    "tags": []
   },
   "outputs": [
    {
     "data": {
      "text/html": [
       "<table class=\"simpletable\">\n",
       "<caption>OLS Regression Results</caption>\n",
       "<tr>\n",
       "  <th>Dep. Variable:</th>            <td>S</td>        <th>  R-squared:         </th> <td>   0.979</td>\n",
       "</tr>\n",
       "<tr>\n",
       "  <th>Model:</th>                   <td>OLS</td>       <th>  Adj. R-squared:    </th> <td>   0.979</td>\n",
       "</tr>\n",
       "<tr>\n",
       "  <th>Method:</th>             <td>Least Squares</td>  <th>  F-statistic:       </th> <td>   8532.</td>\n",
       "</tr>\n",
       "<tr>\n",
       "  <th>Date:</th>             <td>Sat, 22 Jun 2024</td> <th>  Prob (F-statistic):</th>  <td>  0.00</td> \n",
       "</tr>\n",
       "<tr>\n",
       "  <th>Time:</th>                 <td>09:58:56</td>     <th>  Log-Likelihood:    </th> <td>  1652.0</td>\n",
       "</tr>\n",
       "<tr>\n",
       "  <th>No. Observations:</th>      <td>  2565</td>      <th>  AIC:               </th> <td>  -3274.</td>\n",
       "</tr>\n",
       "<tr>\n",
       "  <th>Df Residuals:</th>          <td>  2550</td>      <th>  BIC:               </th> <td>  -3186.</td>\n",
       "</tr>\n",
       "<tr>\n",
       "  <th>Df Model:</th>              <td>    14</td>      <th>                     </th>     <td> </td>   \n",
       "</tr>\n",
       "<tr>\n",
       "  <th>Covariance Type:</th>      <td>nonrobust</td>    <th>                     </th>     <td> </td>   \n",
       "</tr>\n",
       "</table>\n",
       "<table class=\"simpletable\">\n",
       "<tr>\n",
       "      <td></td>        <th>coef</th>     <th>std err</th>      <th>t</th>      <th>P>|t|</th>  <th>[0.025</th>    <th>0.975]</th>  \n",
       "</tr>\n",
       "<tr>\n",
       "  <th>const</th>    <td>    1.6775</td> <td>    0.029</td> <td>   57.663</td> <td> 0.000</td> <td>    1.620</td> <td>    1.735</td>\n",
       "</tr>\n",
       "<tr>\n",
       "  <th>SM</th>       <td>    0.0234</td> <td> 8.33e-05</td> <td>  280.623</td> <td> 0.000</td> <td>    0.023</td> <td>    0.024</td>\n",
       "</tr>\n",
       "<tr>\n",
       "  <th>BO</th>       <td>    0.0846</td> <td>    0.001</td> <td>  124.095</td> <td> 0.000</td> <td>    0.083</td> <td>    0.086</td>\n",
       "</tr>\n",
       "<tr>\n",
       "  <th>trend</th>    <td>   -0.0002</td> <td> 3.68e-06</td> <td>  -63.417</td> <td> 0.000</td> <td>   -0.000</td> <td>   -0.000</td>\n",
       "</tr>\n",
       "<tr>\n",
       "  <th>month_1</th>  <td>    0.0688</td> <td>    0.012</td> <td>    5.669</td> <td> 0.000</td> <td>    0.045</td> <td>    0.093</td>\n",
       "</tr>\n",
       "<tr>\n",
       "  <th>month_2</th>  <td>    0.1370</td> <td>    0.012</td> <td>   11.009</td> <td> 0.000</td> <td>    0.113</td> <td>    0.161</td>\n",
       "</tr>\n",
       "<tr>\n",
       "  <th>month_3</th>  <td>    0.1575</td> <td>    0.012</td> <td>   12.759</td> <td> 0.000</td> <td>    0.133</td> <td>    0.182</td>\n",
       "</tr>\n",
       "<tr>\n",
       "  <th>month_4</th>  <td>    0.1787</td> <td>    0.013</td> <td>   14.246</td> <td> 0.000</td> <td>    0.154</td> <td>    0.203</td>\n",
       "</tr>\n",
       "<tr>\n",
       "  <th>month_5</th>  <td>    0.1826</td> <td>    0.012</td> <td>   14.647</td> <td> 0.000</td> <td>    0.158</td> <td>    0.207</td>\n",
       "</tr>\n",
       "<tr>\n",
       "  <th>month_6</th>  <td>    0.2198</td> <td>    0.012</td> <td>   17.709</td> <td> 0.000</td> <td>    0.195</td> <td>    0.244</td>\n",
       "</tr>\n",
       "<tr>\n",
       "  <th>month_7</th>  <td>    0.1815</td> <td>    0.012</td> <td>   14.629</td> <td> 0.000</td> <td>    0.157</td> <td>    0.206</td>\n",
       "</tr>\n",
       "<tr>\n",
       "  <th>month_8</th>  <td>    0.0923</td> <td>    0.012</td> <td>    7.520</td> <td> 0.000</td> <td>    0.068</td> <td>    0.116</td>\n",
       "</tr>\n",
       "<tr>\n",
       "  <th>month_9</th>  <td>   -0.0001</td> <td>    0.013</td> <td>   -0.011</td> <td> 0.991</td> <td>   -0.025</td> <td>    0.024</td>\n",
       "</tr>\n",
       "<tr>\n",
       "  <th>month_10</th> <td>   -0.0789</td> <td>    0.012</td> <td>   -6.408</td> <td> 0.000</td> <td>   -0.103</td> <td>   -0.055</td>\n",
       "</tr>\n",
       "<tr>\n",
       "  <th>month_11</th> <td>   -0.0618</td> <td>    0.013</td> <td>   -4.935</td> <td> 0.000</td> <td>   -0.086</td> <td>   -0.037</td>\n",
       "</tr>\n",
       "</table>\n",
       "<table class=\"simpletable\">\n",
       "<tr>\n",
       "  <th>Omnibus:</th>       <td>141.497</td> <th>  Durbin-Watson:     </th> <td>   0.122</td> \n",
       "</tr>\n",
       "<tr>\n",
       "  <th>Prob(Omnibus):</th> <td> 0.000</td>  <th>  Jarque-Bera (JB):  </th> <td> 551.206</td> \n",
       "</tr>\n",
       "<tr>\n",
       "  <th>Skew:</th>          <td> 0.060</td>  <th>  Prob(JB):          </th> <td>2.03e-120</td>\n",
       "</tr>\n",
       "<tr>\n",
       "  <th>Kurtosis:</th>      <td> 5.268</td>  <th>  Cond. No.          </th> <td>1.05e+05</td> \n",
       "</tr>\n",
       "</table><br/><br/>Notes:<br/>[1] Standard Errors assume that the covariance matrix of the errors is correctly specified.<br/>[2] The condition number is large, 1.05e+05. This might indicate that there are<br/>strong multicollinearity or other numerical problems."
      ],
      "text/latex": [
       "\\begin{center}\n",
       "\\begin{tabular}{lclc}\n",
       "\\toprule\n",
       "\\textbf{Dep. Variable:}    &        S         & \\textbf{  R-squared:         } &     0.979   \\\\\n",
       "\\textbf{Model:}            &       OLS        & \\textbf{  Adj. R-squared:    } &     0.979   \\\\\n",
       "\\textbf{Method:}           &  Least Squares   & \\textbf{  F-statistic:       } &     8532.   \\\\\n",
       "\\textbf{Date:}             & Sat, 22 Jun 2024 & \\textbf{  Prob (F-statistic):} &     0.00    \\\\\n",
       "\\textbf{Time:}             &     09:58:56     & \\textbf{  Log-Likelihood:    } &    1652.0   \\\\\n",
       "\\textbf{No. Observations:} &        2565      & \\textbf{  AIC:               } &    -3274.   \\\\\n",
       "\\textbf{Df Residuals:}     &        2550      & \\textbf{  BIC:               } &    -3186.   \\\\\n",
       "\\textbf{Df Model:}         &          14      & \\textbf{                     } &             \\\\\n",
       "\\textbf{Covariance Type:}  &    nonrobust     & \\textbf{                     } &             \\\\\n",
       "\\bottomrule\n",
       "\\end{tabular}\n",
       "\\begin{tabular}{lcccccc}\n",
       "                   & \\textbf{coef} & \\textbf{std err} & \\textbf{t} & \\textbf{P$> |$t$|$} & \\textbf{[0.025} & \\textbf{0.975]}  \\\\\n",
       "\\midrule\n",
       "\\textbf{const}     &       1.6775  &        0.029     &    57.663  &         0.000        &        1.620    &        1.735     \\\\\n",
       "\\textbf{SM}        &       0.0234  &     8.33e-05     &   280.623  &         0.000        &        0.023    &        0.024     \\\\\n",
       "\\textbf{BO}        &       0.0846  &        0.001     &   124.095  &         0.000        &        0.083    &        0.086     \\\\\n",
       "\\textbf{trend}     &      -0.0002  &     3.68e-06     &   -63.417  &         0.000        &       -0.000    &       -0.000     \\\\\n",
       "\\textbf{month\\_1}  &       0.0688  &        0.012     &     5.669  &         0.000        &        0.045    &        0.093     \\\\\n",
       "\\textbf{month\\_2}  &       0.1370  &        0.012     &    11.009  &         0.000        &        0.113    &        0.161     \\\\\n",
       "\\textbf{month\\_3}  &       0.1575  &        0.012     &    12.759  &         0.000        &        0.133    &        0.182     \\\\\n",
       "\\textbf{month\\_4}  &       0.1787  &        0.013     &    14.246  &         0.000        &        0.154    &        0.203     \\\\\n",
       "\\textbf{month\\_5}  &       0.1826  &        0.012     &    14.647  &         0.000        &        0.158    &        0.207     \\\\\n",
       "\\textbf{month\\_6}  &       0.2198  &        0.012     &    17.709  &         0.000        &        0.195    &        0.244     \\\\\n",
       "\\textbf{month\\_7}  &       0.1815  &        0.012     &    14.629  &         0.000        &        0.157    &        0.206     \\\\\n",
       "\\textbf{month\\_8}  &       0.0923  &        0.012     &     7.520  &         0.000        &        0.068    &        0.116     \\\\\n",
       "\\textbf{month\\_9}  &      -0.0001  &        0.013     &    -0.011  &         0.991        &       -0.025    &        0.024     \\\\\n",
       "\\textbf{month\\_10} &      -0.0789  &        0.012     &    -6.408  &         0.000        &       -0.103    &       -0.055     \\\\\n",
       "\\textbf{month\\_11} &      -0.0618  &        0.013     &    -4.935  &         0.000        &       -0.086    &       -0.037     \\\\\n",
       "\\bottomrule\n",
       "\\end{tabular}\n",
       "\\begin{tabular}{lclc}\n",
       "\\textbf{Omnibus:}       & 141.497 & \\textbf{  Durbin-Watson:     } &     0.122  \\\\\n",
       "\\textbf{Prob(Omnibus):} &   0.000 & \\textbf{  Jarque-Bera (JB):  } &   551.206  \\\\\n",
       "\\textbf{Skew:}          &   0.060 & \\textbf{  Prob(JB):          } & 2.03e-120  \\\\\n",
       "\\textbf{Kurtosis:}      &   5.268 & \\textbf{  Cond. No.          } &  1.05e+05  \\\\\n",
       "\\bottomrule\n",
       "\\end{tabular}\n",
       "%\\caption{OLS Regression Results}\n",
       "\\end{center}\n",
       "\n",
       "Notes: \\newline\n",
       " [1] Standard Errors assume that the covariance matrix of the errors is correctly specified. \\newline\n",
       " [2] The condition number is large, 1.05e+05. This might indicate that there are \\newline\n",
       " strong multicollinearity or other numerical problems."
      ],
      "text/plain": [
       "<class 'statsmodels.iolib.summary.Summary'>\n",
       "\"\"\"\n",
       "                            OLS Regression Results                            \n",
       "==============================================================================\n",
       "Dep. Variable:                      S   R-squared:                       0.979\n",
       "Model:                            OLS   Adj. R-squared:                  0.979\n",
       "Method:                 Least Squares   F-statistic:                     8532.\n",
       "Date:                Sat, 22 Jun 2024   Prob (F-statistic):               0.00\n",
       "Time:                        09:58:56   Log-Likelihood:                 1652.0\n",
       "No. Observations:                2565   AIC:                            -3274.\n",
       "Df Residuals:                    2550   BIC:                            -3186.\n",
       "Df Model:                          14                                         \n",
       "Covariance Type:            nonrobust                                         \n",
       "==============================================================================\n",
       "                 coef    std err          t      P>|t|      [0.025      0.975]\n",
       "------------------------------------------------------------------------------\n",
       "const          1.6775      0.029     57.663      0.000       1.620       1.735\n",
       "SM             0.0234   8.33e-05    280.623      0.000       0.023       0.024\n",
       "BO             0.0846      0.001    124.095      0.000       0.083       0.086\n",
       "trend         -0.0002   3.68e-06    -63.417      0.000      -0.000      -0.000\n",
       "month_1        0.0688      0.012      5.669      0.000       0.045       0.093\n",
       "month_2        0.1370      0.012     11.009      0.000       0.113       0.161\n",
       "month_3        0.1575      0.012     12.759      0.000       0.133       0.182\n",
       "month_4        0.1787      0.013     14.246      0.000       0.154       0.203\n",
       "month_5        0.1826      0.012     14.647      0.000       0.158       0.207\n",
       "month_6        0.2198      0.012     17.709      0.000       0.195       0.244\n",
       "month_7        0.1815      0.012     14.629      0.000       0.157       0.206\n",
       "month_8        0.0923      0.012      7.520      0.000       0.068       0.116\n",
       "month_9       -0.0001      0.013     -0.011      0.991      -0.025       0.024\n",
       "month_10      -0.0789      0.012     -6.408      0.000      -0.103      -0.055\n",
       "month_11      -0.0618      0.013     -4.935      0.000      -0.086      -0.037\n",
       "==============================================================================\n",
       "Omnibus:                      141.497   Durbin-Watson:                   0.122\n",
       "Prob(Omnibus):                  0.000   Jarque-Bera (JB):              551.206\n",
       "Skew:                           0.060   Prob(JB):                    2.03e-120\n",
       "Kurtosis:                       5.268   Cond. No.                     1.05e+05\n",
       "==============================================================================\n",
       "\n",
       "Notes:\n",
       "[1] Standard Errors assume that the covariance matrix of the errors is correctly specified.\n",
       "[2] The condition number is large, 1.05e+05. This might indicate that there are\n",
       "strong multicollinearity or other numerical problems.\n",
       "\"\"\""
      ]
     },
     "execution_count": 14,
     "metadata": {},
     "output_type": "execute_result"
    }
   ],
   "source": [
    "ols_results.summary()"
   ]
  },
  {
   "cell_type": "markdown",
   "id": "89d043d2",
   "metadata": {
    "papermill": {
     "duration": 0.021955,
     "end_time": "2024-06-22T09:58:56.582944",
     "exception": false,
     "start_time": "2024-06-22T09:58:56.560989",
     "status": "completed"
    },
    "tags": []
   },
   "source": [
    "For fun, let's run the same model but with more recent data of about the past 10 years."
   ]
  },
  {
   "cell_type": "code",
   "execution_count": 15,
   "id": "63de147a",
   "metadata": {
    "execution": {
     "iopub.execute_input": "2024-06-22T09:58:56.679187Z",
     "iopub.status.busy": "2024-06-22T09:58:56.678799Z",
     "iopub.status.idle": "2024-06-22T09:58:56.695035Z",
     "shell.execute_reply": "2024-06-22T09:58:56.694245Z"
    },
    "papermill": {
     "duration": 0.087021,
     "end_time": "2024-06-22T09:58:56.697158",
     "exception": false,
     "start_time": "2024-06-22T09:58:56.610137",
     "status": "completed"
    },
    "tags": []
   },
   "outputs": [],
   "source": [
    "ols_model = sm.OLS(ols_y.loc['2010':], \n",
    "                   ols_x.loc['2010':])\n",
    "ols_results = ols_model.fit()"
   ]
  },
  {
   "cell_type": "markdown",
   "id": "5918032a",
   "metadata": {
    "papermill": {
     "duration": 0.034273,
     "end_time": "2024-06-22T09:58:56.766099",
     "exception": false,
     "start_time": "2024-06-22T09:58:56.731826",
     "status": "completed"
    },
    "tags": []
   },
   "source": [
    "This suggests that there is still some seasonality but it became much weaker compared to the result above."
   ]
  },
  {
   "cell_type": "code",
   "execution_count": 16,
   "id": "e1418a5d",
   "metadata": {
    "execution": {
     "iopub.execute_input": "2024-06-22T09:58:56.814920Z",
     "iopub.status.busy": "2024-06-22T09:58:56.814639Z",
     "iopub.status.idle": "2024-06-22T09:58:56.975697Z",
     "shell.execute_reply": "2024-06-22T09:58:56.974733Z"
    },
    "papermill": {
     "duration": 0.187314,
     "end_time": "2024-06-22T09:58:56.977635",
     "exception": false,
     "start_time": "2024-06-22T09:58:56.790321",
     "status": "completed"
    },
    "tags": []
   },
   "outputs": [
    {
     "data": {
      "text/html": [
       "<table class=\"simpletable\">\n",
       "<caption>OLS Regression Results</caption>\n",
       "<tr>\n",
       "  <th>Dep. Variable:</th>            <td>S</td>        <th>  R-squared:         </th> <td>   0.975</td> \n",
       "</tr>\n",
       "<tr>\n",
       "  <th>Model:</th>                   <td>OLS</td>       <th>  Adj. R-squared:    </th> <td>   0.975</td> \n",
       "</tr>\n",
       "<tr>\n",
       "  <th>Method:</th>             <td>Least Squares</td>  <th>  F-statistic:       </th> <td>1.028e+04</td>\n",
       "</tr>\n",
       "<tr>\n",
       "  <th>Date:</th>             <td>Sat, 22 Jun 2024</td> <th>  Prob (F-statistic):</th>  <td>  0.00</td>  \n",
       "</tr>\n",
       "<tr>\n",
       "  <th>Time:</th>                 <td>09:58:56</td>     <th>  Log-Likelihood:    </th> <td> -1665.2</td> \n",
       "</tr>\n",
       "<tr>\n",
       "  <th>No. Observations:</th>      <td>  3645</td>      <th>  AIC:               </th> <td>   3360.</td> \n",
       "</tr>\n",
       "<tr>\n",
       "  <th>Df Residuals:</th>          <td>  3630</td>      <th>  BIC:               </th> <td>   3453.</td> \n",
       "</tr>\n",
       "<tr>\n",
       "  <th>Df Model:</th>              <td>    14</td>      <th>                     </th>     <td> </td>    \n",
       "</tr>\n",
       "<tr>\n",
       "  <th>Covariance Type:</th>      <td>nonrobust</td>    <th>                     </th>     <td> </td>    \n",
       "</tr>\n",
       "</table>\n",
       "<table class=\"simpletable\">\n",
       "<tr>\n",
       "      <td></td>        <th>coef</th>     <th>std err</th>      <th>t</th>      <th>P>|t|</th>  <th>[0.025</th>    <th>0.975]</th>  \n",
       "</tr>\n",
       "<tr>\n",
       "  <th>const</th>    <td>    3.6072</td> <td>    0.095</td> <td>   37.950</td> <td> 0.000</td> <td>    3.421</td> <td>    3.794</td>\n",
       "</tr>\n",
       "<tr>\n",
       "  <th>SM</th>       <td>    0.0216</td> <td>    0.000</td> <td>  166.729</td> <td> 0.000</td> <td>    0.021</td> <td>    0.022</td>\n",
       "</tr>\n",
       "<tr>\n",
       "  <th>BO</th>       <td>    0.1043</td> <td>    0.001</td> <td>  172.114</td> <td> 0.000</td> <td>    0.103</td> <td>    0.105</td>\n",
       "</tr>\n",
       "<tr>\n",
       "  <th>trend</th>    <td>   -0.0003</td> <td> 6.13e-06</td> <td>  -47.465</td> <td> 0.000</td> <td>   -0.000</td> <td>   -0.000</td>\n",
       "</tr>\n",
       "<tr>\n",
       "  <th>month_1</th>  <td>    0.0558</td> <td>    0.031</td> <td>    1.780</td> <td> 0.075</td> <td>   -0.006</td> <td>    0.117</td>\n",
       "</tr>\n",
       "<tr>\n",
       "  <th>month_2</th>  <td>    0.0653</td> <td>    0.032</td> <td>    2.060</td> <td> 0.040</td> <td>    0.003</td> <td>    0.128</td>\n",
       "</tr>\n",
       "<tr>\n",
       "  <th>month_3</th>  <td>    0.1095</td> <td>    0.031</td> <td>    3.564</td> <td> 0.000</td> <td>    0.049</td> <td>    0.170</td>\n",
       "</tr>\n",
       "<tr>\n",
       "  <th>month_4</th>  <td>    0.1775</td> <td>    0.031</td> <td>    5.703</td> <td> 0.000</td> <td>    0.116</td> <td>    0.239</td>\n",
       "</tr>\n",
       "<tr>\n",
       "  <th>month_5</th>  <td>    0.1432</td> <td>    0.031</td> <td>    4.624</td> <td> 0.000</td> <td>    0.082</td> <td>    0.204</td>\n",
       "</tr>\n",
       "<tr>\n",
       "  <th>month_6</th>  <td>    0.1967</td> <td>    0.031</td> <td>    6.329</td> <td> 0.000</td> <td>    0.136</td> <td>    0.258</td>\n",
       "</tr>\n",
       "<tr>\n",
       "  <th>month_7</th>  <td>    0.0269</td> <td>    0.032</td> <td>    0.851</td> <td> 0.395</td> <td>   -0.035</td> <td>    0.089</td>\n",
       "</tr>\n",
       "<tr>\n",
       "  <th>month_8</th>  <td>   -0.1698</td> <td>    0.031</td> <td>   -5.460</td> <td> 0.000</td> <td>   -0.231</td> <td>   -0.109</td>\n",
       "</tr>\n",
       "<tr>\n",
       "  <th>month_9</th>  <td>   -0.0403</td> <td>    0.032</td> <td>   -1.268</td> <td> 0.205</td> <td>   -0.103</td> <td>    0.022</td>\n",
       "</tr>\n",
       "<tr>\n",
       "  <th>month_10</th> <td>   -0.1445</td> <td>    0.031</td> <td>   -4.629</td> <td> 0.000</td> <td>   -0.206</td> <td>   -0.083</td>\n",
       "</tr>\n",
       "<tr>\n",
       "  <th>month_11</th> <td>   -0.1519</td> <td>    0.032</td> <td>   -4.789</td> <td> 0.000</td> <td>   -0.214</td> <td>   -0.090</td>\n",
       "</tr>\n",
       "</table>\n",
       "<table class=\"simpletable\">\n",
       "<tr>\n",
       "  <th>Omnibus:</th>       <td>301.373</td> <th>  Durbin-Watson:     </th> <td>   0.035</td>\n",
       "</tr>\n",
       "<tr>\n",
       "  <th>Prob(Omnibus):</th> <td> 0.000</td>  <th>  Jarque-Bera (JB):  </th> <td> 379.126</td>\n",
       "</tr>\n",
       "<tr>\n",
       "  <th>Skew:</th>          <td>-0.758</td>  <th>  Prob(JB):          </th> <td>4.72e-83</td>\n",
       "</tr>\n",
       "<tr>\n",
       "  <th>Kurtosis:</th>      <td> 3.447</td>  <th>  Cond. No.          </th> <td>2.28e+05</td>\n",
       "</tr>\n",
       "</table><br/><br/>Notes:<br/>[1] Standard Errors assume that the covariance matrix of the errors is correctly specified.<br/>[2] The condition number is large, 2.28e+05. This might indicate that there are<br/>strong multicollinearity or other numerical problems."
      ],
      "text/latex": [
       "\\begin{center}\n",
       "\\begin{tabular}{lclc}\n",
       "\\toprule\n",
       "\\textbf{Dep. Variable:}    &        S         & \\textbf{  R-squared:         } &     0.975   \\\\\n",
       "\\textbf{Model:}            &       OLS        & \\textbf{  Adj. R-squared:    } &     0.975   \\\\\n",
       "\\textbf{Method:}           &  Least Squares   & \\textbf{  F-statistic:       } & 1.028e+04   \\\\\n",
       "\\textbf{Date:}             & Sat, 22 Jun 2024 & \\textbf{  Prob (F-statistic):} &     0.00    \\\\\n",
       "\\textbf{Time:}             &     09:58:56     & \\textbf{  Log-Likelihood:    } &   -1665.2   \\\\\n",
       "\\textbf{No. Observations:} &        3645      & \\textbf{  AIC:               } &     3360.   \\\\\n",
       "\\textbf{Df Residuals:}     &        3630      & \\textbf{  BIC:               } &     3453.   \\\\\n",
       "\\textbf{Df Model:}         &          14      & \\textbf{                     } &             \\\\\n",
       "\\textbf{Covariance Type:}  &    nonrobust     & \\textbf{                     } &             \\\\\n",
       "\\bottomrule\n",
       "\\end{tabular}\n",
       "\\begin{tabular}{lcccccc}\n",
       "                   & \\textbf{coef} & \\textbf{std err} & \\textbf{t} & \\textbf{P$> |$t$|$} & \\textbf{[0.025} & \\textbf{0.975]}  \\\\\n",
       "\\midrule\n",
       "\\textbf{const}     &       3.6072  &        0.095     &    37.950  &         0.000        &        3.421    &        3.794     \\\\\n",
       "\\textbf{SM}        &       0.0216  &        0.000     &   166.729  &         0.000        &        0.021    &        0.022     \\\\\n",
       "\\textbf{BO}        &       0.1043  &        0.001     &   172.114  &         0.000        &        0.103    &        0.105     \\\\\n",
       "\\textbf{trend}     &      -0.0003  &     6.13e-06     &   -47.465  &         0.000        &       -0.000    &       -0.000     \\\\\n",
       "\\textbf{month\\_1}  &       0.0558  &        0.031     &     1.780  &         0.075        &       -0.006    &        0.117     \\\\\n",
       "\\textbf{month\\_2}  &       0.0653  &        0.032     &     2.060  &         0.040        &        0.003    &        0.128     \\\\\n",
       "\\textbf{month\\_3}  &       0.1095  &        0.031     &     3.564  &         0.000        &        0.049    &        0.170     \\\\\n",
       "\\textbf{month\\_4}  &       0.1775  &        0.031     &     5.703  &         0.000        &        0.116    &        0.239     \\\\\n",
       "\\textbf{month\\_5}  &       0.1432  &        0.031     &     4.624  &         0.000        &        0.082    &        0.204     \\\\\n",
       "\\textbf{month\\_6}  &       0.1967  &        0.031     &     6.329  &         0.000        &        0.136    &        0.258     \\\\\n",
       "\\textbf{month\\_7}  &       0.0269  &        0.032     &     0.851  &         0.395        &       -0.035    &        0.089     \\\\\n",
       "\\textbf{month\\_8}  &      -0.1698  &        0.031     &    -5.460  &         0.000        &       -0.231    &       -0.109     \\\\\n",
       "\\textbf{month\\_9}  &      -0.0403  &        0.032     &    -1.268  &         0.205        &       -0.103    &        0.022     \\\\\n",
       "\\textbf{month\\_10} &      -0.1445  &        0.031     &    -4.629  &         0.000        &       -0.206    &       -0.083     \\\\\n",
       "\\textbf{month\\_11} &      -0.1519  &        0.032     &    -4.789  &         0.000        &       -0.214    &       -0.090     \\\\\n",
       "\\bottomrule\n",
       "\\end{tabular}\n",
       "\\begin{tabular}{lclc}\n",
       "\\textbf{Omnibus:}       & 301.373 & \\textbf{  Durbin-Watson:     } &    0.035  \\\\\n",
       "\\textbf{Prob(Omnibus):} &   0.000 & \\textbf{  Jarque-Bera (JB):  } &  379.126  \\\\\n",
       "\\textbf{Skew:}          &  -0.758 & \\textbf{  Prob(JB):          } & 4.72e-83  \\\\\n",
       "\\textbf{Kurtosis:}      &   3.447 & \\textbf{  Cond. No.          } & 2.28e+05  \\\\\n",
       "\\bottomrule\n",
       "\\end{tabular}\n",
       "%\\caption{OLS Regression Results}\n",
       "\\end{center}\n",
       "\n",
       "Notes: \\newline\n",
       " [1] Standard Errors assume that the covariance matrix of the errors is correctly specified. \\newline\n",
       " [2] The condition number is large, 2.28e+05. This might indicate that there are \\newline\n",
       " strong multicollinearity or other numerical problems."
      ],
      "text/plain": [
       "<class 'statsmodels.iolib.summary.Summary'>\n",
       "\"\"\"\n",
       "                            OLS Regression Results                            \n",
       "==============================================================================\n",
       "Dep. Variable:                      S   R-squared:                       0.975\n",
       "Model:                            OLS   Adj. R-squared:                  0.975\n",
       "Method:                 Least Squares   F-statistic:                 1.028e+04\n",
       "Date:                Sat, 22 Jun 2024   Prob (F-statistic):               0.00\n",
       "Time:                        09:58:56   Log-Likelihood:                -1665.2\n",
       "No. Observations:                3645   AIC:                             3360.\n",
       "Df Residuals:                    3630   BIC:                             3453.\n",
       "Df Model:                          14                                         \n",
       "Covariance Type:            nonrobust                                         \n",
       "==============================================================================\n",
       "                 coef    std err          t      P>|t|      [0.025      0.975]\n",
       "------------------------------------------------------------------------------\n",
       "const          3.6072      0.095     37.950      0.000       3.421       3.794\n",
       "SM             0.0216      0.000    166.729      0.000       0.021       0.022\n",
       "BO             0.1043      0.001    172.114      0.000       0.103       0.105\n",
       "trend         -0.0003   6.13e-06    -47.465      0.000      -0.000      -0.000\n",
       "month_1        0.0558      0.031      1.780      0.075      -0.006       0.117\n",
       "month_2        0.0653      0.032      2.060      0.040       0.003       0.128\n",
       "month_3        0.1095      0.031      3.564      0.000       0.049       0.170\n",
       "month_4        0.1775      0.031      5.703      0.000       0.116       0.239\n",
       "month_5        0.1432      0.031      4.624      0.000       0.082       0.204\n",
       "month_6        0.1967      0.031      6.329      0.000       0.136       0.258\n",
       "month_7        0.0269      0.032      0.851      0.395      -0.035       0.089\n",
       "month_8       -0.1698      0.031     -5.460      0.000      -0.231      -0.109\n",
       "month_9       -0.0403      0.032     -1.268      0.205      -0.103       0.022\n",
       "month_10      -0.1445      0.031     -4.629      0.000      -0.206      -0.083\n",
       "month_11      -0.1519      0.032     -4.789      0.000      -0.214      -0.090\n",
       "==============================================================================\n",
       "Omnibus:                      301.373   Durbin-Watson:                   0.035\n",
       "Prob(Omnibus):                  0.000   Jarque-Bera (JB):              379.126\n",
       "Skew:                          -0.758   Prob(JB):                     4.72e-83\n",
       "Kurtosis:                       3.447   Cond. No.                     2.28e+05\n",
       "==============================================================================\n",
       "\n",
       "Notes:\n",
       "[1] Standard Errors assume that the covariance matrix of the errors is correctly specified.\n",
       "[2] The condition number is large, 2.28e+05. This might indicate that there are\n",
       "strong multicollinearity or other numerical problems.\n",
       "\"\"\""
      ]
     },
     "execution_count": 16,
     "metadata": {},
     "output_type": "execute_result"
    }
   ],
   "source": [
    "ols_results.summary()"
   ]
  },
  {
   "cell_type": "markdown",
   "id": "80e1848c",
   "metadata": {
    "papermill": {
     "duration": 0.02817,
     "end_time": "2024-06-22T09:58:57.031594",
     "exception": false,
     "start_time": "2024-06-22T09:58:57.003424",
     "status": "completed"
    },
    "tags": []
   },
   "source": [
    "# Trading strategy"
   ]
  },
  {
   "cell_type": "markdown",
   "id": "19fb7a4f",
   "metadata": {
    "papermill": {
     "duration": 0.026228,
     "end_time": "2024-06-22T09:58:57.082036",
     "exception": false,
     "start_time": "2024-06-22T09:58:57.055808",
     "status": "completed"
    },
    "tags": []
   },
   "source": [
    "## 1-1-1 crush spread\n",
    "\n",
    "As opposed to the one estimated by USDA, or the cointegratioin model estimated by the author, often in practice the crush spread is quoted and traded with 1-1-1 contract sizes. Simon 1999 uses the spread with 100 tons of meal, 60,000 pounds of oil and 5000 bushel of soybeans. \n",
    "\n",
    "Incidentally this weighting is roughly equal to the one listed on CME (https://www.cmegroup.com/education/courses/introduction-to-agriculture/grains-oilseeds/understanding-soybean-crush.html), which is the spread with 4,400 pounds (2.2 ton) of meal, 1,100 pounds of oil and 100 bushel of soybeans. "
   ]
  },
  {
   "cell_type": "code",
   "execution_count": 17,
   "id": "163dc4f1",
   "metadata": {
    "execution": {
     "iopub.execute_input": "2024-06-22T09:58:57.136641Z",
     "iopub.status.busy": "2024-06-22T09:58:57.136191Z",
     "iopub.status.idle": "2024-06-22T09:58:57.142417Z",
     "shell.execute_reply": "2024-06-22T09:58:57.141689Z"
    },
    "papermill": {
     "duration": 0.034821,
     "end_time": "2024-06-22T09:58:57.145030",
     "exception": false,
     "start_time": "2024-06-22T09:58:57.110209",
     "status": "completed"
    },
    "tags": []
   },
   "outputs": [],
   "source": [
    "crush_spread = (soybean_meal_price.squeeze().mul(100) + \n",
    "                soybean_oil_price.squeeze().mul(600) - \n",
    "                soybean_price.squeeze().mul(50))"
   ]
  },
  {
   "cell_type": "code",
   "execution_count": 18,
   "id": "36e718a8",
   "metadata": {
    "execution": {
     "iopub.execute_input": "2024-06-22T09:58:57.208824Z",
     "iopub.status.busy": "2024-06-22T09:58:57.208168Z",
     "iopub.status.idle": "2024-06-22T09:58:57.536522Z",
     "shell.execute_reply": "2024-06-22T09:58:57.535862Z"
    },
    "papermill": {
     "duration": 0.361781,
     "end_time": "2024-06-22T09:58:57.538748",
     "exception": false,
     "start_time": "2024-06-22T09:58:57.176967",
     "status": "completed"
    },
    "tags": []
   },
   "outputs": [
    {
     "data": {
      "image/png": "[encoded data removed]",
      "text/plain": [
       "<Figure size 800x500 with 1 Axes>"
      ]
     },
     "metadata": {},
     "output_type": "display_data"
    }
   ],
   "source": [
    "fig, ax = plt.subplots(figsize=(8, 5))\n",
    "crush_spread.plot();\n",
    "ax.set_ylabel('Crush spread ($)')\n",
    "ax.set_title('1-1-1 soybean crush spread');"
   ]
  },
  {
   "cell_type": "markdown",
   "id": "a59106d1",
   "metadata": {
    "papermill": {
     "duration": 0.028106,
     "end_time": "2024-06-22T09:58:57.599540",
     "exception": false,
     "start_time": "2024-06-22T09:58:57.571434",
     "status": "completed"
    },
    "tags": []
   },
   "source": [
    "The spread appears mean-reverting around its 5-day moving average."
   ]
  },
  {
   "cell_type": "code",
   "execution_count": 19,
   "id": "e2740976",
   "metadata": {
    "execution": {
     "iopub.execute_input": "2024-06-22T09:58:57.658544Z",
     "iopub.status.busy": "2024-06-22T09:58:57.658168Z",
     "iopub.status.idle": "2024-06-22T09:58:57.967165Z",
     "shell.execute_reply": "2024-06-22T09:58:57.966323Z"
    },
    "papermill": {
     "duration": 0.339178,
     "end_time": "2024-06-22T09:58:57.968966",
     "exception": false,
     "start_time": "2024-06-22T09:58:57.629788",
     "status": "completed"
    },
    "tags": []
   },
   "outputs": [
    {
     "data": {
      "image/png": "[encoded data removed]",
      "text/plain": [
       "<Figure size 800x500 with 1 Axes>"
      ]
     },
     "metadata": {},
     "output_type": "display_data"
    }
   ],
   "source": [
    "fig, ax = plt.subplots(figsize=(8, 5))\n",
    "(crush_spread - crush_spread.rolling(5).mean())['1985-01':'1995-02'].plot(ax=ax);\n",
    "ax.set_ylabel('Deviation from 5 day average')\n",
    "ax.set_title('Deviation from 5 day average (1-1-1 crush spread)');"
   ]
  },
  {
   "cell_type": "markdown",
   "id": "a97b79ea",
   "metadata": {
    "papermill": {
     "duration": 0.023652,
     "end_time": "2024-06-22T09:58:58.019393",
     "exception": false,
     "start_time": "2024-06-22T09:58:57.995741",
     "status": "completed"
    },
    "tags": []
   },
   "source": [
    "## Ref CME crush spread\n",
    "\n",
    "For reference, the crush spread defined by CME follows about the same trajectory."
   ]
  },
  {
   "cell_type": "code",
   "execution_count": 20,
   "id": "26501bf9",
   "metadata": {
    "execution": {
     "iopub.execute_input": "2024-06-22T09:58:58.073764Z",
     "iopub.status.busy": "2024-06-22T09:58:58.073375Z",
     "iopub.status.idle": "2024-06-22T09:58:58.079460Z",
     "shell.execute_reply": "2024-06-22T09:58:58.078841Z"
    },
    "papermill": {
     "duration": 0.036841,
     "end_time": "2024-06-22T09:58:58.081246",
     "exception": false,
     "start_time": "2024-06-22T09:58:58.044405",
     "status": "completed"
    },
    "tags": []
   },
   "outputs": [],
   "source": [
    "crush_spread_cme = (soybean_meal_price.squeeze().mul(2.2) + \n",
    "                    soybean_oil_price.squeeze().mul(11) - \n",
    "                    soybean_price.squeeze())"
   ]
  },
  {
   "cell_type": "code",
   "execution_count": 21,
   "id": "396db7c9",
   "metadata": {
    "execution": {
     "iopub.execute_input": "2024-06-22T09:58:58.131640Z",
     "iopub.status.busy": "2024-06-22T09:58:58.131317Z",
     "iopub.status.idle": "2024-06-22T09:58:58.477049Z",
     "shell.execute_reply": "2024-06-22T09:58:58.476344Z"
    },
    "papermill": {
     "duration": 0.374523,
     "end_time": "2024-06-22T09:58:58.479357",
     "exception": false,
     "start_time": "2024-06-22T09:58:58.104834",
     "status": "completed"
    },
    "tags": []
   },
   "outputs": [
    {
     "data": {
      "image/png": "[encoded data removed]",
      "text/plain": [
       "<Figure size 800x500 with 1 Axes>"
      ]
     },
     "metadata": {},
     "output_type": "display_data"
    }
   ],
   "source": [
    "fig, ax = plt.subplots(figsize=(8, 5))\n",
    "crush_spread_cme.plot();\n",
    "ax.set_ylabel('Crush spread ($)')\n",
    "ax.set_title('Soybean crush spread (CME)');"
   ]
  },
  {
   "cell_type": "markdown",
   "id": "321f5ab3",
   "metadata": {
    "papermill": {
     "duration": 0.024229,
     "end_time": "2024-06-22T09:58:58.528036",
     "exception": false,
     "start_time": "2024-06-22T09:58:58.503807",
     "status": "completed"
    },
    "tags": []
   },
   "source": [
    "## Backtest\n",
    "\n",
    "In Simon 1999, the author mentions that the trading strategy is performed in-sample, which suggests that the long-run fair value model was fit with the entire data sample. Because of this, the strategy contains a look-ahead bias and **not a valid trading strategy**. A more appropriate simulation would be to use a walk-forward method such as rolling regression."
   ]
  },
  {
   "cell_type": "markdown",
   "id": "03a26d1a",
   "metadata": {
    "papermill": {
     "duration": 0.022328,
     "end_time": "2024-06-22T09:58:58.574955",
     "exception": false,
     "start_time": "2024-06-22T09:58:58.552627",
     "status": "completed"
    },
    "tags": []
   },
   "source": [
    "### Long-only without the fair value model"
   ]
  },
  {
   "cell_type": "markdown",
   "id": "599e3088",
   "metadata": {
    "papermill": {
     "duration": 0.022128,
     "end_time": "2024-06-22T09:58:58.621062",
     "exception": false,
     "start_time": "2024-06-22T09:58:58.598934",
     "status": "completed"
    },
    "tags": []
   },
   "source": [
    "One minor but important thing is that in `vivace`, usually futures returns are computed as if they are fully-collateralised. This means effectively, return $r_t$ is computed in the form of \n",
    "\n",
    "$$\n",
    "r_t = \\frac{F_t - F_{t-1}}{F_{t-1}}\n",
    "$$\n",
    "\n",
    "where $F_t$ is the futures price at time $t$.\n",
    "This is useful when we want to allocate say an equal amount of dollars across different instruments. However in this notebook, we want to decide the allocation based on the nunmber of  lots for each instrument. This is achieved by calculating returns as follows:\n",
    "\n",
    "$$\n",
    "r_t = \\frac{F_t - F_{t-1}}{c}\n",
    "$$\n",
    "\n",
    "where $c$ is the collateral amount. In the following, some arbitrary collateral of 10,000 is used. By doing this $r_t$ means the return relative to the collateral amount (10k).\n",
    "\n",
    "With this, let's run the backtest with only long-positions on crush spread are taken, without the fair value model."
   ]
  },
  {
   "cell_type": "code",
   "execution_count": 22,
   "id": "30f91a09",
   "metadata": {
    "execution": {
     "iopub.execute_input": "2024-06-22T09:58:58.674674Z",
     "iopub.status.busy": "2024-06-22T09:58:58.674278Z",
     "iopub.status.idle": "2024-06-22T09:58:58.679040Z",
     "shell.execute_reply": "2024-06-22T09:58:58.678261Z"
    },
    "papermill": {
     "duration": 0.035562,
     "end_time": "2024-06-22T09:58:58.681146",
     "exception": false,
     "start_time": "2024-06-22T09:58:58.645584",
     "status": "completed"
    },
    "tags": []
   },
   "outputs": [],
   "source": [
    "common_kwargs = dict(\n",
    "    start_date=datetime(1985, 1, 1),\n",
    "    end_date=datetime(1995, 2, 28),\n",
    "    strategy=Strategy.DELTA_ONE.value,\n",
    "    instrument=[\n",
    "        InstrumentDef('S', collateral=10000),\n",
    "        InstrumentDef('SM', collateral=10000),\n",
    "        InstrumentDef('BO', collateral=10000),\n",
    "    ],\n",
    "    weighting=Weighting.SUM.value,\n",
    "    log_level=logging.WARN,\n",
    ")"
   ]
  },
  {
   "cell_type": "code",
   "execution_count": 23,
   "id": "e260163e",
   "metadata": {
    "execution": {
     "iopub.execute_input": "2024-06-22T09:58:58.744736Z",
     "iopub.status.busy": "2024-06-22T09:58:58.744273Z",
     "iopub.status.idle": "2024-06-22T09:59:05.928175Z",
     "shell.execute_reply": "2024-06-22T09:59:05.927384Z"
    },
    "papermill": {
     "duration": 7.216253,
     "end_time": "2024-06-22T09:59:05.930507",
     "exception": false,
     "start_time": "2024-06-22T09:58:58.714254",
     "status": "completed"
    },
    "tags": []
   },
   "outputs": [],
   "source": [
    "engine = BacktestEngine(\n",
    "    signal=signal.CrushSpreadSimon1999InSample(\n",
    "        ma_lookback=5,\n",
    "        ma_entry=100,\n",
    "        ma_exit=100,\n",
    "        fair_value=False,\n",
    "        long_position=True,\n",
    "        short_position=False,\n",
    "    ),\n",
    "    **common_kwargs,\n",
    ")\n",
    "engine.run()"
   ]
  },
  {
   "cell_type": "code",
   "execution_count": 24,
   "id": "4d1d1b80",
   "metadata": {
    "execution": {
     "iopub.execute_input": "2024-06-22T09:59:05.988768Z",
     "iopub.status.busy": "2024-06-22T09:59:05.988319Z",
     "iopub.status.idle": "2024-06-22T09:59:07.686012Z",
     "shell.execute_reply": "2024-06-22T09:59:07.685236Z"
    },
    "papermill": {
     "duration": 1.721636,
     "end_time": "2024-06-22T09:59:07.687813",
     "exception": false,
     "start_time": "2024-06-22T09:59:05.966177",
     "status": "completed"
    },
    "tags": []
   },
   "outputs": [],
   "source": [
    "long_only_wo_fair_value = engine.calculate_equity_curve(calculate_net=False)"
   ]
  },
  {
   "cell_type": "markdown",
   "id": "323f2731",
   "metadata": {
    "papermill": {
     "duration": 0.024216,
     "end_time": "2024-06-22T09:59:07.733987",
     "exception": false,
     "start_time": "2024-06-22T09:59:07.709771",
     "status": "completed"
    },
    "tags": []
   },
   "source": [
    "With more strict entry rule."
   ]
  },
  {
   "cell_type": "code",
   "execution_count": 25,
   "id": "980dbab9",
   "metadata": {
    "execution": {
     "iopub.execute_input": "2024-06-22T09:59:07.779841Z",
     "iopub.status.busy": "2024-06-22T09:59:07.779597Z",
     "iopub.status.idle": "2024-06-22T09:59:13.937557Z",
     "shell.execute_reply": "2024-06-22T09:59:13.936769Z"
    },
    "papermill": {
     "duration": 6.184145,
     "end_time": "2024-06-22T09:59:13.939883",
     "exception": false,
     "start_time": "2024-06-22T09:59:07.755738",
     "status": "completed"
    },
    "tags": []
   },
   "outputs": [],
   "source": [
    "engine = BacktestEngine(\n",
    "    signal=signal.CrushSpreadSimon1999InSample(\n",
    "        ma_lookback=5,\n",
    "        ma_entry=300,\n",
    "        ma_exit=300,\n",
    "        fair_value=False,\n",
    "        long_position=True,\n",
    "        short_position=False,\n",
    "    ),\n",
    "    **common_kwargs,\n",
    ")\n",
    "engine.run()"
   ]
  },
  {
   "cell_type": "code",
   "execution_count": 26,
   "id": "06989ecf",
   "metadata": {
    "execution": {
     "iopub.execute_input": "2024-06-22T09:59:13.985871Z",
     "iopub.status.busy": "2024-06-22T09:59:13.985478Z",
     "iopub.status.idle": "2024-06-22T09:59:14.875838Z",
     "shell.execute_reply": "2024-06-22T09:59:14.875110Z"
    },
    "papermill": {
     "duration": 0.914985,
     "end_time": "2024-06-22T09:59:14.877440",
     "exception": false,
     "start_time": "2024-06-22T09:59:13.962455",
     "status": "completed"
    },
    "tags": []
   },
   "outputs": [],
   "source": [
    "long_only_wo_fair_value2 = engine.calculate_equity_curve(calculate_net=False)"
   ]
  },
  {
   "cell_type": "code",
   "execution_count": 27,
   "id": "f1c51431",
   "metadata": {
    "execution": {
     "iopub.execute_input": "2024-06-22T09:59:14.923426Z",
     "iopub.status.busy": "2024-06-22T09:59:14.923192Z",
     "iopub.status.idle": "2024-06-22T09:59:14.927780Z",
     "shell.execute_reply": "2024-06-22T09:59:14.927041Z"
    },
    "papermill": {
     "duration": 0.03002,
     "end_time": "2024-06-22T09:59:14.929733",
     "exception": false,
     "start_time": "2024-06-22T09:59:14.899713",
     "status": "completed"
    },
    "tags": []
   },
   "outputs": [],
   "source": [
    "levels1 = pd.concat((long_only_wo_fair_value.rename('LO: Entry threshold = $100'), \n",
    "                     long_only_wo_fair_value2.rename('LO: Entry threshold = $300')), axis=1)"
   ]
  },
  {
   "cell_type": "markdown",
   "id": "11a41c5a",
   "metadata": {
    "papermill": {
     "duration": 0.02642,
     "end_time": "2024-06-22T09:59:14.977914",
     "exception": false,
     "start_time": "2024-06-22T09:59:14.951494",
     "status": "completed"
    },
    "tags": []
   },
   "source": [
    "As reported, having more strict entry rule seems to improve the risk-adjusted returns."
   ]
  },
  {
   "cell_type": "code",
   "execution_count": 28,
   "id": "3bb062a5-599c-47ba-beef-924341e63fd4",
   "metadata": {
    "execution": {
     "iopub.execute_input": "2024-06-22T09:59:15.025593Z",
     "iopub.status.busy": "2024-06-22T09:59:15.025362Z",
     "iopub.status.idle": "2024-06-22T09:59:15.519361Z",
     "shell.execute_reply": "2024-06-22T09:59:15.518576Z"
    },
    "papermill": {
     "duration": 0.520172,
     "end_time": "2024-06-22T09:59:15.522208",
     "exception": false,
     "start_time": "2024-06-22T09:59:15.002036",
     "status": "completed"
    },
    "tags": []
   },
   "outputs": [
    {
     "data": {
      "image/png": "[encoded data removed]",
      "text/plain": [
       "<Figure size 800x500 with 1 Axes>"
      ]
     },
     "metadata": {},
     "output_type": "display_data"
    }
   ],
   "source": [
    "fig, ax = plt.subplots(figsize=(8, 5))\n",
    "levels1.plot(ax=ax, logy=True);\n",
    "ax.set_title('Crush spread mean-reversion\\n(Long-only, without fair value mode, Simon 1999)')\n",
    "ax.set_ylabel('Cumulative returns');"
   ]
  },
  {
   "cell_type": "code",
   "execution_count": 29,
   "id": "1dc15bb1",
   "metadata": {
    "execution": {
     "iopub.execute_input": "2024-06-22T09:59:15.593729Z",
     "iopub.status.busy": "2024-06-22T09:59:15.593449Z",
     "iopub.status.idle": "2024-06-22T09:59:15.629419Z",
     "shell.execute_reply": "2024-06-22T09:59:15.628897Z"
    },
    "papermill": {
     "duration": 0.074128,
     "end_time": "2024-06-22T09:59:15.631335",
     "exception": false,
     "start_time": "2024-06-22T09:59:15.557207",
     "status": "completed"
    },
    "tags": []
   },
   "outputs": [
    {
     "data": {
      "text/html": [
       "<div>\n",
       "<style scoped>\n",
       "    .dataframe tbody tr th:only-of-type {\n",
       "        vertical-align: middle;\n",
       "    }\n",
       "\n",
       "    .dataframe tbody tr th {\n",
       "        vertical-align: top;\n",
       "    }\n",
       "\n",
       "    .dataframe thead th {\n",
       "        text-align: right;\n",
       "    }\n",
       "</style>\n",
       "<table border=\"1\" class=\"dataframe\">\n",
       "  <thead>\n",
       "    <tr style=\"text-align: right;\">\n",
       "      <th></th>\n",
       "      <th>LO: Entry threshold = $100</th>\n",
       "      <th>LO: Entry threshold = $300</th>\n",
       "    </tr>\n",
       "  </thead>\n",
       "  <tbody>\n",
       "    <tr>\n",
       "      <th>CAGR</th>\n",
       "      <td>0.069739</td>\n",
       "      <td>0.072783</td>\n",
       "    </tr>\n",
       "    <tr>\n",
       "      <th>Annualised vol</th>\n",
       "      <td>0.199714</td>\n",
       "      <td>0.185037</td>\n",
       "    </tr>\n",
       "    <tr>\n",
       "      <th>Sharpe ratio</th>\n",
       "      <td>0.349191</td>\n",
       "      <td>0.393345</td>\n",
       "    </tr>\n",
       "    <tr>\n",
       "      <th>Max drawdown</th>\n",
       "      <td>0.450240</td>\n",
       "      <td>0.412393</td>\n",
       "    </tr>\n",
       "    <tr>\n",
       "      <th>Calmar ratio</th>\n",
       "      <td>0.154892</td>\n",
       "      <td>0.176491</td>\n",
       "    </tr>\n",
       "    <tr>\n",
       "      <th>Skewness</th>\n",
       "      <td>10.840016</td>\n",
       "      <td>10.190246</td>\n",
       "    </tr>\n",
       "    <tr>\n",
       "      <th>Kurtosis</th>\n",
       "      <td>319.000246</td>\n",
       "      <td>239.627881</td>\n",
       "    </tr>\n",
       "    <tr>\n",
       "      <th>Worst return</th>\n",
       "      <td>-0.084068</td>\n",
       "      <td>-0.080780</td>\n",
       "    </tr>\n",
       "    <tr>\n",
       "      <th>Worst 1d return</th>\n",
       "      <td>-0.084068</td>\n",
       "      <td>-0.080780</td>\n",
       "    </tr>\n",
       "    <tr>\n",
       "      <th>Worst 1w return</th>\n",
       "      <td>-0.115850</td>\n",
       "      <td>-0.111875</td>\n",
       "    </tr>\n",
       "    <tr>\n",
       "      <th>Worst 1m return</th>\n",
       "      <td>-0.120820</td>\n",
       "      <td>-0.119465</td>\n",
       "    </tr>\n",
       "  </tbody>\n",
       "</table>\n",
       "</div>"
      ],
      "text/plain": [
       "                 LO: Entry threshold = $100  LO: Entry threshold = $300\n",
       "CAGR                               0.069739                    0.072783\n",
       "Annualised vol                     0.199714                    0.185037\n",
       "Sharpe ratio                       0.349191                    0.393345\n",
       "Max drawdown                       0.450240                    0.412393\n",
       "Calmar ratio                       0.154892                    0.176491\n",
       "Skewness                          10.840016                   10.190246\n",
       "Kurtosis                         319.000246                  239.627881\n",
       "Worst return                      -0.084068                   -0.080780\n",
       "Worst 1d return                   -0.084068                   -0.080780\n",
       "Worst 1w return                   -0.115850                   -0.111875\n",
       "Worst 1m return                   -0.120820                   -0.119465"
      ]
     },
     "execution_count": 29,
     "metadata": {},
     "output_type": "execute_result"
    }
   ],
   "source": [
    "levels1.pipe(Performance).summary()"
   ]
  },
  {
   "cell_type": "markdown",
   "id": "3ba9196b",
   "metadata": {
    "papermill": {
     "duration": 0.021845,
     "end_time": "2024-06-22T09:59:15.679635",
     "exception": false,
     "start_time": "2024-06-22T09:59:15.657790",
     "status": "completed"
    },
    "tags": []
   },
   "source": [
    "### Long-only with the fair value model"
   ]
  },
  {
   "cell_type": "code",
   "execution_count": 30,
   "id": "da546299",
   "metadata": {
    "execution": {
     "iopub.execute_input": "2024-06-22T09:59:15.727220Z",
     "iopub.status.busy": "2024-06-22T09:59:15.726976Z",
     "iopub.status.idle": "2024-06-22T09:59:22.814085Z",
     "shell.execute_reply": "2024-06-22T09:59:22.813378Z"
    },
    "papermill": {
     "duration": 7.111774,
     "end_time": "2024-06-22T09:59:22.815762",
     "exception": false,
     "start_time": "2024-06-22T09:59:15.703988",
     "status": "completed"
    },
    "tags": []
   },
   "outputs": [],
   "source": [
    "engine = BacktestEngine(\n",
    "    signal=signal.CrushSpreadSimon1999InSample(\n",
    "        ma_lookback=5,\n",
    "        ma_entry=100,\n",
    "        ma_exit=100,\n",
    "        fair_value=True,\n",
    "        fair_value_entry=0,\n",
    "        long_position=True,\n",
    "        short_position=False,\n",
    "    ),\n",
    "    **common_kwargs,\n",
    ")\n",
    "engine.run()"
   ]
  },
  {
   "cell_type": "code",
   "execution_count": 31,
   "id": "94204706",
   "metadata": {
    "execution": {
     "iopub.execute_input": "2024-06-22T09:59:22.867013Z",
     "iopub.status.busy": "2024-06-22T09:59:22.866499Z",
     "iopub.status.idle": "2024-06-22T09:59:23.762872Z",
     "shell.execute_reply": "2024-06-22T09:59:23.762055Z"
    },
    "papermill": {
     "duration": 0.923592,
     "end_time": "2024-06-22T09:59:23.765154",
     "exception": false,
     "start_time": "2024-06-22T09:59:22.841562",
     "status": "completed"
    },
    "tags": []
   },
   "outputs": [],
   "source": [
    "long_only_with_fair_value = engine.calculate_equity_curve(calculate_net=False)"
   ]
  },
  {
   "cell_type": "code",
   "execution_count": 32,
   "id": "f8814547",
   "metadata": {
    "execution": {
     "iopub.execute_input": "2024-06-22T09:59:23.823731Z",
     "iopub.status.busy": "2024-06-22T09:59:23.823500Z",
     "iopub.status.idle": "2024-06-22T09:59:31.097910Z",
     "shell.execute_reply": "2024-06-22T09:59:31.097173Z"
    },
    "papermill": {
     "duration": 7.303093,
     "end_time": "2024-06-22T09:59:31.100134",
     "exception": false,
     "start_time": "2024-06-22T09:59:23.797041",
     "status": "completed"
    },
    "tags": []
   },
   "outputs": [],
   "source": [
    "engine = BacktestEngine(\n",
    "    signal=signal.CrushSpreadSimon1999InSample(\n",
    "        ma_lookback=5,\n",
    "        ma_entry=100,\n",
    "        ma_exit=100,\n",
    "        fair_value=True,\n",
    "        fair_value_entry=0.1,\n",
    "        long_position=True,\n",
    "        short_position=False,\n",
    "    ),\n",
    "    **common_kwargs,\n",
    ")\n",
    "engine.run()"
   ]
  },
  {
   "cell_type": "code",
   "execution_count": 33,
   "id": "e029ef0c",
   "metadata": {
    "execution": {
     "iopub.execute_input": "2024-06-22T09:59:31.177716Z",
     "iopub.status.busy": "2024-06-22T09:59:31.177208Z",
     "iopub.status.idle": "2024-06-22T09:59:32.010019Z",
     "shell.execute_reply": "2024-06-22T09:59:32.009366Z"
    },
    "papermill": {
     "duration": 0.873834,
     "end_time": "2024-06-22T09:59:32.012227",
     "exception": false,
     "start_time": "2024-06-22T09:59:31.138393",
     "status": "completed"
    },
    "tags": []
   },
   "outputs": [],
   "source": [
    "long_only_with_fair_value2 = engine.calculate_equity_curve(calculate_net=False)"
   ]
  },
  {
   "cell_type": "code",
   "execution_count": 34,
   "id": "5269fdc6",
   "metadata": {
    "execution": {
     "iopub.execute_input": "2024-06-22T09:59:32.072182Z",
     "iopub.status.busy": "2024-06-22T09:59:32.071716Z",
     "iopub.status.idle": "2024-06-22T09:59:37.967057Z",
     "shell.execute_reply": "2024-06-22T09:59:37.966517Z"
    },
    "papermill": {
     "duration": 5.921207,
     "end_time": "2024-06-22T09:59:37.968768",
     "exception": false,
     "start_time": "2024-06-22T09:59:32.047561",
     "status": "completed"
    },
    "tags": []
   },
   "outputs": [],
   "source": [
    "engine = BacktestEngine(\n",
    "    signal=signal.CrushSpreadSimon1999InSample(\n",
    "        ma_lookback=5,\n",
    "        ma_entry=100,\n",
    "        ma_exit=100,\n",
    "        fair_value=True,\n",
    "        fair_value_entry=0.2,\n",
    "        long_position=True,\n",
    "        short_position=False,\n",
    "    ),\n",
    "    **common_kwargs,\n",
    ")\n",
    "engine.run()"
   ]
  },
  {
   "cell_type": "code",
   "execution_count": 35,
   "id": "70040923",
   "metadata": {
    "execution": {
     "iopub.execute_input": "2024-06-22T09:59:38.013329Z",
     "iopub.status.busy": "2024-06-22T09:59:38.012924Z",
     "iopub.status.idle": "2024-06-22T09:59:38.846992Z",
     "shell.execute_reply": "2024-06-22T09:59:38.846244Z"
    },
    "papermill": {
     "duration": 0.858211,
     "end_time": "2024-06-22T09:59:38.848652",
     "exception": false,
     "start_time": "2024-06-22T09:59:37.990441",
     "status": "completed"
    },
    "tags": []
   },
   "outputs": [],
   "source": [
    "long_only_with_fair_value3 = engine.calculate_equity_curve(calculate_net=False)"
   ]
  },
  {
   "cell_type": "code",
   "execution_count": 36,
   "id": "a3be2c20",
   "metadata": {
    "execution": {
     "iopub.execute_input": "2024-06-22T09:59:38.893058Z",
     "iopub.status.busy": "2024-06-22T09:59:38.892757Z",
     "iopub.status.idle": "2024-06-22T09:59:38.897415Z",
     "shell.execute_reply": "2024-06-22T09:59:38.896639Z"
    },
    "papermill": {
     "duration": 0.02928,
     "end_time": "2024-06-22T09:59:38.899553",
     "exception": false,
     "start_time": "2024-06-22T09:59:38.870273",
     "status": "completed"
    },
    "tags": []
   },
   "outputs": [],
   "source": [
    "levels2 = pd.concat((long_only_with_fair_value.rename('LO: MA entry = $100, FV entry = 0.0'), \n",
    "                     long_only_with_fair_value2.rename('LO: MA entry = $100, FV entry = 0.1'),\n",
    "                     long_only_with_fair_value3.rename('LO: MA entry = $100, FV entry = 0.2'),), axis=1)"
   ]
  },
  {
   "cell_type": "markdown",
   "id": "6bb913ed",
   "metadata": {
    "papermill": {
     "duration": 0.021381,
     "end_time": "2024-06-22T09:59:38.943017",
     "exception": false,
     "start_time": "2024-06-22T09:59:38.921636",
     "status": "completed"
    },
    "tags": []
   },
   "source": [
    "The author tests the fair value threshold of 0.2, however in our analysis this appears to be too strict and the performance is mainly coming from the one-off event in 1988. This suggests that the strategy is sensitive to this parameter and needs to be chosen carefully."
   ]
  },
  {
   "cell_type": "code",
   "execution_count": 37,
   "id": "8f229d16",
   "metadata": {
    "execution": {
     "iopub.execute_input": "2024-06-22T09:59:38.987070Z",
     "iopub.status.busy": "2024-06-22T09:59:38.986750Z",
     "iopub.status.idle": "2024-06-22T09:59:39.709465Z",
     "shell.execute_reply": "2024-06-22T09:59:39.708870Z"
    },
    "papermill": {
     "duration": 0.748076,
     "end_time": "2024-06-22T09:59:39.712338",
     "exception": false,
     "start_time": "2024-06-22T09:59:38.964262",
     "status": "completed"
    },
    "tags": []
   },
   "outputs": [
    {
     "data": {
      "image/png": "[encoded data removed]",
      "text/plain": [
       "<Figure size 800x500 with 1 Axes>"
      ]
     },
     "metadata": {},
     "output_type": "display_data"
    }
   ],
   "source": [
    "fig, ax = plt.subplots(figsize=(8, 5))\n",
    "levels2.plot(ax=ax, logy=True);\n",
    "ax.set_title('Crush spread mean-reversion\\n(Long-only, with fair value mode, Simon 1999)')\n",
    "ax.set_ylabel('Cumulative returns');"
   ]
  },
  {
   "cell_type": "code",
   "execution_count": 38,
   "id": "98bc8b33",
   "metadata": {
    "execution": {
     "iopub.execute_input": "2024-06-22T09:59:39.765479Z",
     "iopub.status.busy": "2024-06-22T09:59:39.765157Z",
     "iopub.status.idle": "2024-06-22T09:59:39.814953Z",
     "shell.execute_reply": "2024-06-22T09:59:39.814213Z"
    },
    "papermill": {
     "duration": 0.07636,
     "end_time": "2024-06-22T09:59:39.817037",
     "exception": false,
     "start_time": "2024-06-22T09:59:39.740677",
     "status": "completed"
    },
    "tags": []
   },
   "outputs": [
    {
     "data": {
      "text/html": [
       "<div>\n",
       "<style scoped>\n",
       "    .dataframe tbody tr th:only-of-type {\n",
       "        vertical-align: middle;\n",
       "    }\n",
       "\n",
       "    .dataframe tbody tr th {\n",
       "        vertical-align: top;\n",
       "    }\n",
       "\n",
       "    .dataframe thead th {\n",
       "        text-align: right;\n",
       "    }\n",
       "</style>\n",
       "<table border=\"1\" class=\"dataframe\">\n",
       "  <thead>\n",
       "    <tr style=\"text-align: right;\">\n",
       "      <th></th>\n",
       "      <th>LO: MA entry = $100, FV entry = 0.0</th>\n",
       "      <th>LO: MA entry = $100, FV entry = 0.1</th>\n",
       "      <th>LO: MA entry = $100, FV entry = 0.2</th>\n",
       "    </tr>\n",
       "  </thead>\n",
       "  <tbody>\n",
       "    <tr>\n",
       "      <th>CAGR</th>\n",
       "      <td>0.069365</td>\n",
       "      <td>0.044459</td>\n",
       "      <td>0.035756</td>\n",
       "    </tr>\n",
       "    <tr>\n",
       "      <th>Annualised vol</th>\n",
       "      <td>0.146761</td>\n",
       "      <td>0.152547</td>\n",
       "      <td>0.127055</td>\n",
       "    </tr>\n",
       "    <tr>\n",
       "      <th>Sharpe ratio</th>\n",
       "      <td>0.472643</td>\n",
       "      <td>0.291448</td>\n",
       "      <td>0.281420</td>\n",
       "    </tr>\n",
       "    <tr>\n",
       "      <th>Max drawdown</th>\n",
       "      <td>0.303265</td>\n",
       "      <td>0.291401</td>\n",
       "      <td>0.155524</td>\n",
       "    </tr>\n",
       "    <tr>\n",
       "      <th>Calmar ratio</th>\n",
       "      <td>0.228729</td>\n",
       "      <td>0.152571</td>\n",
       "      <td>0.229905</td>\n",
       "    </tr>\n",
       "    <tr>\n",
       "      <th>Skewness</th>\n",
       "      <td>13.922854</td>\n",
       "      <td>19.993458</td>\n",
       "      <td>27.311606</td>\n",
       "    </tr>\n",
       "    <tr>\n",
       "      <th>Kurtosis</th>\n",
       "      <td>432.463887</td>\n",
       "      <td>690.302367</td>\n",
       "      <td>1072.661646</td>\n",
       "    </tr>\n",
       "    <tr>\n",
       "      <th>Worst return</th>\n",
       "      <td>-0.067862</td>\n",
       "      <td>-0.078377</td>\n",
       "      <td>-0.073372</td>\n",
       "    </tr>\n",
       "    <tr>\n",
       "      <th>Worst 1d return</th>\n",
       "      <td>-0.067862</td>\n",
       "      <td>-0.078377</td>\n",
       "      <td>-0.073372</td>\n",
       "    </tr>\n",
       "    <tr>\n",
       "      <th>Worst 1w return</th>\n",
       "      <td>-0.054660</td>\n",
       "      <td>-0.061231</td>\n",
       "      <td>-0.049791</td>\n",
       "    </tr>\n",
       "    <tr>\n",
       "      <th>Worst 1m return</th>\n",
       "      <td>-0.111347</td>\n",
       "      <td>-0.123603</td>\n",
       "      <td>-0.085998</td>\n",
       "    </tr>\n",
       "  </tbody>\n",
       "</table>\n",
       "</div>"
      ],
      "text/plain": [
       "                 LO: MA entry = $100, FV entry = 0.0  \\\n",
       "CAGR                                        0.069365   \n",
       "Annualised vol                              0.146761   \n",
       "Sharpe ratio                                0.472643   \n",
       "Max drawdown                                0.303265   \n",
       "Calmar ratio                                0.228729   \n",
       "Skewness                                   13.922854   \n",
       "Kurtosis                                  432.463887   \n",
       "Worst return                               -0.067862   \n",
       "Worst 1d return                            -0.067862   \n",
       "Worst 1w return                            -0.054660   \n",
       "Worst 1m return                            -0.111347   \n",
       "\n",
       "                 LO: MA entry = $100, FV entry = 0.1  \\\n",
       "CAGR                                        0.044459   \n",
       "Annualised vol                              0.152547   \n",
       "Sharpe ratio                                0.291448   \n",
       "Max drawdown                                0.291401   \n",
       "Calmar ratio                                0.152571   \n",
       "Skewness                                   19.993458   \n",
       "Kurtosis                                  690.302367   \n",
       "Worst return                               -0.078377   \n",
       "Worst 1d return                            -0.078377   \n",
       "Worst 1w return                            -0.061231   \n",
       "Worst 1m return                            -0.123603   \n",
       "\n",
       "                 LO: MA entry = $100, FV entry = 0.2  \n",
       "CAGR                                        0.035756  \n",
       "Annualised vol                              0.127055  \n",
       "Sharpe ratio                                0.281420  \n",
       "Max drawdown                                0.155524  \n",
       "Calmar ratio                                0.229905  \n",
       "Skewness                                   27.311606  \n",
       "Kurtosis                                 1072.661646  \n",
       "Worst return                               -0.073372  \n",
       "Worst 1d return                            -0.073372  \n",
       "Worst 1w return                            -0.049791  \n",
       "Worst 1m return                            -0.085998  "
      ]
     },
     "execution_count": 38,
     "metadata": {},
     "output_type": "execute_result"
    }
   ],
   "source": [
    "levels2.pipe(Performance).summary()"
   ]
  },
  {
   "cell_type": "markdown",
   "id": "51ceac5e",
   "metadata": {
    "papermill": {
     "duration": 0.027988,
     "end_time": "2024-06-22T09:59:39.871547",
     "exception": false,
     "start_time": "2024-06-22T09:59:39.843559",
     "status": "completed"
    },
    "tags": []
   },
   "source": [
    "### Short-only without the fair value model\n",
    "\n",
    "Interestingly, the short-only strategy (short SM, BO and long S) shows better risk-adjusted performance during the same period."
   ]
  },
  {
   "cell_type": "code",
   "execution_count": 39,
   "id": "3780cca2",
   "metadata": {
    "execution": {
     "iopub.execute_input": "2024-06-22T09:59:39.918096Z",
     "iopub.status.busy": "2024-06-22T09:59:39.917599Z",
     "iopub.status.idle": "2024-06-22T09:59:45.975116Z",
     "shell.execute_reply": "2024-06-22T09:59:45.974364Z"
    },
    "papermill": {
     "duration": 6.083289,
     "end_time": "2024-06-22T09:59:45.977393",
     "exception": false,
     "start_time": "2024-06-22T09:59:39.894104",
     "status": "completed"
    },
    "tags": []
   },
   "outputs": [],
   "source": [
    "engine = BacktestEngine(\n",
    "    signal=signal.CrushSpreadSimon1999InSample(\n",
    "        ma_lookback=5,\n",
    "        ma_entry=100,\n",
    "        ma_exit=100,\n",
    "        fair_value=False,\n",
    "        long_position=False,\n",
    "        short_position=True,\n",
    "    ),\n",
    "    **common_kwargs,\n",
    ")\n",
    "engine.run()"
   ]
  },
  {
   "cell_type": "code",
   "execution_count": 40,
   "id": "16a78383",
   "metadata": {
    "execution": {
     "iopub.execute_input": "2024-06-22T09:59:46.060639Z",
     "iopub.status.busy": "2024-06-22T09:59:46.059733Z",
     "iopub.status.idle": "2024-06-22T09:59:46.943075Z",
     "shell.execute_reply": "2024-06-22T09:59:46.942393Z"
    },
    "papermill": {
     "duration": 0.926594,
     "end_time": "2024-06-22T09:59:46.945254",
     "exception": false,
     "start_time": "2024-06-22T09:59:46.018660",
     "status": "completed"
    },
    "tags": []
   },
   "outputs": [],
   "source": [
    "short_only_wo_fair_value = engine.calculate_equity_curve(calculate_net=False)"
   ]
  },
  {
   "cell_type": "code",
   "execution_count": 41,
   "id": "8f591d81",
   "metadata": {
    "execution": {
     "iopub.execute_input": "2024-06-22T09:59:47.008053Z",
     "iopub.status.busy": "2024-06-22T09:59:47.007640Z",
     "iopub.status.idle": "2024-06-22T09:59:52.912671Z",
     "shell.execute_reply": "2024-06-22T09:59:52.912006Z"
    },
    "papermill": {
     "duration": 5.930673,
     "end_time": "2024-06-22T09:59:52.915149",
     "exception": false,
     "start_time": "2024-06-22T09:59:46.984476",
     "status": "completed"
    },
    "tags": []
   },
   "outputs": [],
   "source": [
    "engine = BacktestEngine(\n",
    "    signal=signal.CrushSpreadSimon1999InSample(\n",
    "        ma_lookback=5,\n",
    "        ma_entry=300,\n",
    "        ma_exit=300,\n",
    "        fair_value=False,\n",
    "        long_position=False,\n",
    "        short_position=True,\n",
    "    ),\n",
    "    **common_kwargs,\n",
    ")\n",
    "engine.run()"
   ]
  },
  {
   "cell_type": "code",
   "execution_count": 42,
   "id": "582d05d2",
   "metadata": {
    "execution": {
     "iopub.execute_input": "2024-06-22T09:59:52.971530Z",
     "iopub.status.busy": "2024-06-22T09:59:52.971184Z",
     "iopub.status.idle": "2024-06-22T09:59:54.034058Z",
     "shell.execute_reply": "2024-06-22T09:59:54.033387Z"
    },
    "papermill": {
     "duration": 1.092983,
     "end_time": "2024-06-22T09:59:54.035743",
     "exception": false,
     "start_time": "2024-06-22T09:59:52.942760",
     "status": "completed"
    },
    "tags": []
   },
   "outputs": [],
   "source": [
    "short_only_wo_fair_value2 = engine.calculate_equity_curve(calculate_net=False)"
   ]
  },
  {
   "cell_type": "code",
   "execution_count": 43,
   "id": "9ad5768a",
   "metadata": {
    "execution": {
     "iopub.execute_input": "2024-06-22T09:59:54.097095Z",
     "iopub.status.busy": "2024-06-22T09:59:54.096779Z",
     "iopub.status.idle": "2024-06-22T09:59:54.101292Z",
     "shell.execute_reply": "2024-06-22T09:59:54.100517Z"
    },
    "papermill": {
     "duration": 0.043364,
     "end_time": "2024-06-22T09:59:54.103291",
     "exception": false,
     "start_time": "2024-06-22T09:59:54.059927",
     "status": "completed"
    },
    "tags": []
   },
   "outputs": [],
   "source": [
    "levels3 = pd.concat((short_only_wo_fair_value.rename('SO: Entry threshold = $100'), \n",
    "                     short_only_wo_fair_value2.rename('SO: Entry threshold = $300')), axis=1)"
   ]
  },
  {
   "cell_type": "code",
   "execution_count": 44,
   "id": "5dff60cb",
   "metadata": {
    "execution": {
     "iopub.execute_input": "2024-06-22T09:59:54.167806Z",
     "iopub.status.busy": "2024-06-22T09:59:54.167423Z",
     "iopub.status.idle": "2024-06-22T09:59:54.677889Z",
     "shell.execute_reply": "2024-06-22T09:59:54.677208Z"
    },
    "papermill": {
     "duration": 0.544981,
     "end_time": "2024-06-22T09:59:54.679489",
     "exception": false,
     "start_time": "2024-06-22T09:59:54.134508",
     "status": "completed"
    },
    "tags": []
   },
   "outputs": [
    {
     "data": {
      "image/png": "[encoded data removed]",
      "text/plain": [
       "<Figure size 800x500 with 1 Axes>"
      ]
     },
     "metadata": {},
     "output_type": "display_data"
    }
   ],
   "source": [
    "fig, ax = plt.subplots(figsize=(8, 5))\n",
    "levels3.plot(ax=ax, logy=True);\n",
    "ax.set_title('Crush spread mean-reversion\\n(Short-only, without fair value mode, Simon 1999)')\n",
    "ax.set_ylabel('Cumulative returns');"
   ]
  },
  {
   "cell_type": "code",
   "execution_count": 45,
   "id": "73545db4",
   "metadata": {
    "execution": {
     "iopub.execute_input": "2024-06-22T09:59:54.747009Z",
     "iopub.status.busy": "2024-06-22T09:59:54.746625Z",
     "iopub.status.idle": "2024-06-22T09:59:54.789011Z",
     "shell.execute_reply": "2024-06-22T09:59:54.788110Z"
    },
    "papermill": {
     "duration": 0.083516,
     "end_time": "2024-06-22T09:59:54.791077",
     "exception": false,
     "start_time": "2024-06-22T09:59:54.707561",
     "status": "completed"
    },
    "tags": []
   },
   "outputs": [
    {
     "data": {
      "text/html": [
       "<div>\n",
       "<style scoped>\n",
       "    .dataframe tbody tr th:only-of-type {\n",
       "        vertical-align: middle;\n",
       "    }\n",
       "\n",
       "    .dataframe tbody tr th {\n",
       "        vertical-align: top;\n",
       "    }\n",
       "\n",
       "    .dataframe thead th {\n",
       "        text-align: right;\n",
       "    }\n",
       "</style>\n",
       "<table border=\"1\" class=\"dataframe\">\n",
       "  <thead>\n",
       "    <tr style=\"text-align: right;\">\n",
       "      <th></th>\n",
       "      <th>SO: Entry threshold = $100</th>\n",
       "      <th>SO: Entry threshold = $300</th>\n",
       "    </tr>\n",
       "  </thead>\n",
       "  <tbody>\n",
       "    <tr>\n",
       "      <th>CAGR</th>\n",
       "      <td>0.033803</td>\n",
       "      <td>0.042297</td>\n",
       "    </tr>\n",
       "    <tr>\n",
       "      <th>Annualised vol</th>\n",
       "      <td>0.140158</td>\n",
       "      <td>0.069037</td>\n",
       "    </tr>\n",
       "    <tr>\n",
       "      <th>Sharpe ratio</th>\n",
       "      <td>0.241177</td>\n",
       "      <td>0.612677</td>\n",
       "    </tr>\n",
       "    <tr>\n",
       "      <th>Max drawdown</th>\n",
       "      <td>0.301009</td>\n",
       "      <td>0.103257</td>\n",
       "    </tr>\n",
       "    <tr>\n",
       "      <th>Calmar ratio</th>\n",
       "      <td>0.112299</td>\n",
       "      <td>0.409630</td>\n",
       "    </tr>\n",
       "    <tr>\n",
       "      <th>Skewness</th>\n",
       "      <td>0.296796</td>\n",
       "      <td>14.004007</td>\n",
       "    </tr>\n",
       "    <tr>\n",
       "      <th>Kurtosis</th>\n",
       "      <td>186.928429</td>\n",
       "      <td>355.269614</td>\n",
       "    </tr>\n",
       "    <tr>\n",
       "      <th>Worst return</th>\n",
       "      <td>-0.196615</td>\n",
       "      <td>-0.041517</td>\n",
       "    </tr>\n",
       "    <tr>\n",
       "      <th>Worst 1d return</th>\n",
       "      <td>-0.196615</td>\n",
       "      <td>-0.041517</td>\n",
       "    </tr>\n",
       "    <tr>\n",
       "      <th>Worst 1w return</th>\n",
       "      <td>-0.100672</td>\n",
       "      <td>-0.041423</td>\n",
       "    </tr>\n",
       "    <tr>\n",
       "      <th>Worst 1m return</th>\n",
       "      <td>-0.105223</td>\n",
       "      <td>-0.041423</td>\n",
       "    </tr>\n",
       "  </tbody>\n",
       "</table>\n",
       "</div>"
      ],
      "text/plain": [
       "                 SO: Entry threshold = $100  SO: Entry threshold = $300\n",
       "CAGR                               0.033803                    0.042297\n",
       "Annualised vol                     0.140158                    0.069037\n",
       "Sharpe ratio                       0.241177                    0.612677\n",
       "Max drawdown                       0.301009                    0.103257\n",
       "Calmar ratio                       0.112299                    0.409630\n",
       "Skewness                           0.296796                   14.004007\n",
       "Kurtosis                         186.928429                  355.269614\n",
       "Worst return                      -0.196615                   -0.041517\n",
       "Worst 1d return                   -0.196615                   -0.041517\n",
       "Worst 1w return                   -0.100672                   -0.041423\n",
       "Worst 1m return                   -0.105223                   -0.041423"
      ]
     },
     "execution_count": 45,
     "metadata": {},
     "output_type": "execute_result"
    }
   ],
   "source": [
    "levels3.pipe(Performance).summary()"
   ]
  },
  {
   "cell_type": "markdown",
   "id": "64136d01",
   "metadata": {
    "papermill": {
     "duration": 0.027725,
     "end_time": "2024-06-22T09:59:54.852897",
     "exception": false,
     "start_time": "2024-06-22T09:59:54.825172",
     "status": "completed"
    },
    "tags": []
   },
   "source": [
    "### Short-only with the fair value model"
   ]
  },
  {
   "cell_type": "code",
   "execution_count": 46,
   "id": "8e18dda3",
   "metadata": {
    "execution": {
     "iopub.execute_input": "2024-06-22T09:59:54.912216Z",
     "iopub.status.busy": "2024-06-22T09:59:54.911813Z",
     "iopub.status.idle": "2024-06-22T10:00:00.873197Z",
     "shell.execute_reply": "2024-06-22T10:00:00.872405Z"
    },
    "papermill": {
     "duration": 5.992974,
     "end_time": "2024-06-22T10:00:00.875437",
     "exception": false,
     "start_time": "2024-06-22T09:59:54.882463",
     "status": "completed"
    },
    "tags": []
   },
   "outputs": [],
   "source": [
    "engine = BacktestEngine(\n",
    "    signal=signal.CrushSpreadSimon1999InSample(\n",
    "        ma_lookback=5,\n",
    "        ma_entry=100,\n",
    "        ma_exit=100,\n",
    "        fair_value=True,\n",
    "        fair_value_entry=0,\n",
    "        long_position=False,\n",
    "        short_position=True,\n",
    "    ),\n",
    "    **common_kwargs,\n",
    ")\n",
    "engine.run()"
   ]
  },
  {
   "cell_type": "code",
   "execution_count": null,
   "id": "021d7621",
   "metadata": {
    "papermill": {
     "duration": null,
     "end_time": null,
     "exception": false,
     "start_time": "2024-06-22T10:00:00.911559",
     "status": "running"
    },
    "tags": []
   },
   "outputs": [],
   "source": [
    "short_only_with_fair_value = engine.calculate_equity_curve(calculate_net=False)"
   ]
  },
  {
   "cell_type": "code",
   "execution_count": null,
   "id": "098b9803",
   "metadata": {
    "papermill": {
     "duration": null,
     "end_time": null,
     "exception": null,
     "start_time": null,
     "status": "pending"
    },
    "tags": []
   },
   "outputs": [],
   "source": [
    "engine = BacktestEngine(\n",
    "    signal=signal.CrushSpreadSimon1999InSample(\n",
    "        ma_lookback=5,\n",
    "        ma_entry=100,\n",
    "        ma_exit=100,\n",
    "        fair_value=True,\n",
    "        fair_value_entry=0.1,\n",
    "        long_position=False,\n",
    "        short_position=True,\n",
    "    ),\n",
    "    **common_kwargs,\n",
    ")\n",
    "engine.run()"
   ]
  },
  {
   "cell_type": "code",
   "execution_count": null,
   "id": "76b1bead",
   "metadata": {
    "papermill": {
     "duration": null,
     "end_time": null,
     "exception": null,
     "start_time": null,
     "status": "pending"
    },
    "tags": []
   },
   "outputs": [],
   "source": [
    "short_only_with_fair_value2 = engine.calculate_equity_curve(calculate_net=False)"
   ]
  },
  {
   "cell_type": "code",
   "execution_count": null,
   "id": "7963ec98",
   "metadata": {
    "papermill": {
     "duration": null,
     "end_time": null,
     "exception": null,
     "start_time": null,
     "status": "pending"
    },
    "tags": []
   },
   "outputs": [],
   "source": [
    "levels4 = pd.concat((short_only_with_fair_value.rename('SO: MA entry = $100, FV entry = 0.0'), \n",
    "                     short_only_with_fair_value2.rename('SO: MA entry = $100, FV entry = 0.1')), axis=1)"
   ]
  },
  {
   "cell_type": "code",
   "execution_count": null,
   "id": "b63c8e31",
   "metadata": {
    "papermill": {
     "duration": null,
     "end_time": null,
     "exception": null,
     "start_time": null,
     "status": "pending"
    },
    "tags": []
   },
   "outputs": [],
   "source": [
    "fig, ax = plt.subplots(figsize=(8, 5))\n",
    "levels4.plot(ax=ax, logy=True);\n",
    "ax.set_title('Crush spread mean-reversion\\n(Short-only, with fair value mode, Simon 1999)')\n",
    "ax.set_ylabel('Cumulative returns');"
   ]
  },
  {
   "cell_type": "code",
   "execution_count": null,
   "id": "bcde7293",
   "metadata": {
    "papermill": {
     "duration": null,
     "end_time": null,
     "exception": null,
     "start_time": null,
     "status": "pending"
    },
    "tags": []
   },
   "outputs": [],
   "source": [
    "levels4.pipe(Performance).summary()"
   ]
  },
  {
   "cell_type": "markdown",
   "id": "f0e11476",
   "metadata": {
    "papermill": {
     "duration": null,
     "end_time": null,
     "exception": null,
     "start_time": null,
     "status": "pending"
    },
    "tags": []
   },
   "source": [
    "## Long-term performance\n",
    "\n",
    "In this section, out-of-sample performance is calculated. To be consistent with the previous section, the fair value model is fit using data up to Feb-1995."
   ]
  },
  {
   "cell_type": "code",
   "execution_count": null,
   "id": "5a13bc80",
   "metadata": {
    "papermill": {
     "duration": null,
     "end_time": null,
     "exception": null,
     "start_time": null,
     "status": "pending"
    },
    "tags": []
   },
   "outputs": [],
   "source": [
    "common_kwargs = dict(\n",
    "    start_date=datetime(1985, 1, 1),\n",
    "    strategy=Strategy.DELTA_ONE.value,\n",
    "    instrument=[\n",
    "        InstrumentDef('S', collateral=10000),\n",
    "        InstrumentDef('SM', collateral=10000),\n",
    "        InstrumentDef('BO', collateral=10000),\n",
    "    ],\n",
    "    weighting=Weighting.SUM.value,\n",
    "    log_level=logging.WARN,\n",
    ")"
   ]
  },
  {
   "cell_type": "markdown",
   "id": "8a11aab9",
   "metadata": {
    "papermill": {
     "duration": null,
     "end_time": null,
     "exception": null,
     "start_time": null,
     "status": "pending"
    },
    "tags": []
   },
   "source": [
    "### Long-only without the fair value model"
   ]
  },
  {
   "cell_type": "code",
   "execution_count": null,
   "id": "28a3b4d4",
   "metadata": {
    "papermill": {
     "duration": null,
     "end_time": null,
     "exception": null,
     "start_time": null,
     "status": "pending"
    },
    "tags": []
   },
   "outputs": [],
   "source": [
    "engine = BacktestEngine(\n",
    "    signal=signal.CrushSpreadSimon1999InSample(\n",
    "        ma_lookback=5,\n",
    "        ma_entry=100,\n",
    "        ma_exit=100,\n",
    "        fair_value=False,\n",
    "        long_position=True,\n",
    "        short_position=False,\n",
    "    ),\n",
    "    **common_kwargs,\n",
    ")\n",
    "engine.run()"
   ]
  },
  {
   "cell_type": "code",
   "execution_count": null,
   "id": "6142a921",
   "metadata": {
    "papermill": {
     "duration": null,
     "end_time": null,
     "exception": null,
     "start_time": null,
     "status": "pending"
    },
    "tags": []
   },
   "outputs": [],
   "source": [
    "long_only_wo_fair_value = engine.calculate_equity_curve(calculate_net=False)"
   ]
  },
  {
   "cell_type": "code",
   "execution_count": null,
   "id": "f56df3d8",
   "metadata": {
    "papermill": {
     "duration": null,
     "end_time": null,
     "exception": null,
     "start_time": null,
     "status": "pending"
    },
    "tags": []
   },
   "outputs": [],
   "source": [
    "engine = BacktestEngine(\n",
    "    signal=signal.CrushSpreadSimon1999InSample(\n",
    "        ma_lookback=5,\n",
    "        ma_entry=300,\n",
    "        ma_exit=300,\n",
    "        fair_value=False,\n",
    "        long_position=True,\n",
    "        short_position=False,\n",
    "    ),\n",
    "    **common_kwargs,\n",
    ")\n",
    "engine.run()"
   ]
  },
  {
   "cell_type": "code",
   "execution_count": null,
   "id": "6a746d15",
   "metadata": {
    "papermill": {
     "duration": null,
     "end_time": null,
     "exception": null,
     "start_time": null,
     "status": "pending"
    },
    "tags": []
   },
   "outputs": [],
   "source": [
    "long_only_wo_fair_value2 = engine.calculate_equity_curve(calculate_net=False)"
   ]
  },
  {
   "cell_type": "code",
   "execution_count": null,
   "id": "d808bcdf",
   "metadata": {
    "papermill": {
     "duration": null,
     "end_time": null,
     "exception": null,
     "start_time": null,
     "status": "pending"
    },
    "tags": []
   },
   "outputs": [],
   "source": [
    "levels1 = pd.concat((long_only_wo_fair_value.rename('LO: Entry threshold = $100'), \n",
    "                     long_only_wo_fair_value2.rename('LO: Entry threshold = $300')), axis=1)"
   ]
  },
  {
   "cell_type": "code",
   "execution_count": null,
   "id": "805bb894-d063-4b50-b632-3ffd9e6d28e3",
   "metadata": {
    "papermill": {
     "duration": null,
     "end_time": null,
     "exception": null,
     "start_time": null,
     "status": "pending"
    },
    "tags": []
   },
   "outputs": [],
   "source": [
    "fig, ax = plt.subplots(figsize=(8, 5))\n",
    "levels1.plot(ax=ax, logy=True);\n",
    "ax.set_title('Crush spread mean-reversion\\n(Long-only, without fair value mode, Simon 1999)')\n",
    "ax.set_ylabel('Cumulative returns');"
   ]
  },
  {
   "cell_type": "code",
   "execution_count": null,
   "id": "4c2af8a6",
   "metadata": {
    "papermill": {
     "duration": null,
     "end_time": null,
     "exception": null,
     "start_time": null,
     "status": "pending"
    },
    "tags": []
   },
   "outputs": [],
   "source": [
    "levels1.pipe(Performance).summary()"
   ]
  },
  {
   "cell_type": "markdown",
   "id": "adcaaf50",
   "metadata": {
    "papermill": {
     "duration": null,
     "end_time": null,
     "exception": null,
     "start_time": null,
     "status": "pending"
    },
    "tags": []
   },
   "source": [
    "### Long-only with the fair value model"
   ]
  },
  {
   "cell_type": "code",
   "execution_count": null,
   "id": "47edb3e9",
   "metadata": {
    "papermill": {
     "duration": null,
     "end_time": null,
     "exception": null,
     "start_time": null,
     "status": "pending"
    },
    "tags": []
   },
   "outputs": [],
   "source": [
    "engine = BacktestEngine(\n",
    "    signal=signal.CrushSpreadSimon1999InSample(\n",
    "        ma_lookback=5,\n",
    "        ma_entry=100,\n",
    "        ma_exit=100,\n",
    "        fair_value=True,\n",
    "        fair_value_entry=0,\n",
    "        fair_value_end_date=datetime(1995, 2, 28),\n",
    "        long_position=True,\n",
    "        short_position=False,\n",
    "    ),\n",
    "    **common_kwargs,\n",
    ")\n",
    "engine.run()"
   ]
  },
  {
   "cell_type": "code",
   "execution_count": null,
   "id": "cead0056",
   "metadata": {
    "papermill": {
     "duration": null,
     "end_time": null,
     "exception": null,
     "start_time": null,
     "status": "pending"
    },
    "tags": []
   },
   "outputs": [],
   "source": [
    "long_only_with_fair_value = engine.calculate_equity_curve(calculate_net=False)"
   ]
  },
  {
   "cell_type": "code",
   "execution_count": null,
   "id": "abe3f72c",
   "metadata": {
    "papermill": {
     "duration": null,
     "end_time": null,
     "exception": null,
     "start_time": null,
     "status": "pending"
    },
    "tags": []
   },
   "outputs": [],
   "source": [
    "engine = BacktestEngine(\n",
    "    signal=signal.CrushSpreadSimon1999InSample(\n",
    "        ma_lookback=5,\n",
    "        ma_entry=100,\n",
    "        ma_exit=100,\n",
    "        fair_value=True,\n",
    "        fair_value_entry=0.1,\n",
    "        fair_value_end_date=datetime(1995, 2, 28),\n",
    "        long_position=True,\n",
    "        short_position=False,\n",
    "    ),\n",
    "    **common_kwargs,\n",
    ")\n",
    "engine.run()"
   ]
  },
  {
   "cell_type": "code",
   "execution_count": null,
   "id": "38d7df4c",
   "metadata": {
    "papermill": {
     "duration": null,
     "end_time": null,
     "exception": null,
     "start_time": null,
     "status": "pending"
    },
    "tags": []
   },
   "outputs": [],
   "source": [
    "long_only_with_fair_value2 = engine.calculate_equity_curve(calculate_net=False)"
   ]
  },
  {
   "cell_type": "code",
   "execution_count": null,
   "id": "7b26370e",
   "metadata": {
    "papermill": {
     "duration": null,
     "end_time": null,
     "exception": null,
     "start_time": null,
     "status": "pending"
    },
    "tags": []
   },
   "outputs": [],
   "source": [
    "levels2 = pd.concat((long_only_with_fair_value.rename('LO: MA entry = $100, FV entry = 0.0'), \n",
    "                     long_only_with_fair_value2.rename('LO: MA entry = $100, FV entry = 0.1')), axis=1)"
   ]
  },
  {
   "cell_type": "code",
   "execution_count": null,
   "id": "d6f8cc56-4bca-43fe-bc9b-75ca7714242a",
   "metadata": {
    "papermill": {
     "duration": null,
     "end_time": null,
     "exception": null,
     "start_time": null,
     "status": "pending"
    },
    "tags": []
   },
   "outputs": [],
   "source": [
    "fig, ax = plt.subplots(figsize=(8, 5))\n",
    "levels2.plot(ax=ax, logy=True);\n",
    "ax.set_title('Crush spread mean-reversion\\n(Long-only, with fair value mode, Simon 1999)')\n",
    "ax.set_ylabel('Cumulative returns');"
   ]
  },
  {
   "cell_type": "code",
   "execution_count": null,
   "id": "e9275301",
   "metadata": {
    "papermill": {
     "duration": null,
     "end_time": null,
     "exception": null,
     "start_time": null,
     "status": "pending"
    },
    "tags": []
   },
   "outputs": [],
   "source": [
    "levels2.pipe(Performance).summary()"
   ]
  },
  {
   "cell_type": "markdown",
   "id": "0561649e",
   "metadata": {
    "papermill": {
     "duration": null,
     "end_time": null,
     "exception": null,
     "start_time": null,
     "status": "pending"
    },
    "tags": []
   },
   "source": [
    "### Short-only without the fair value model"
   ]
  },
  {
   "cell_type": "code",
   "execution_count": null,
   "id": "14404a07",
   "metadata": {
    "papermill": {
     "duration": null,
     "end_time": null,
     "exception": null,
     "start_time": null,
     "status": "pending"
    },
    "tags": []
   },
   "outputs": [],
   "source": [
    "engine = BacktestEngine(\n",
    "    signal=signal.CrushSpreadSimon1999InSample(\n",
    "        ma_lookback=5,\n",
    "        ma_entry=100,\n",
    "        ma_exit=100,\n",
    "        fair_value=False,\n",
    "        long_position=False,\n",
    "        short_position=True,\n",
    "    ),\n",
    "    **common_kwargs,\n",
    ")\n",
    "engine.run()"
   ]
  },
  {
   "cell_type": "code",
   "execution_count": null,
   "id": "750d8158",
   "metadata": {
    "papermill": {
     "duration": null,
     "end_time": null,
     "exception": null,
     "start_time": null,
     "status": "pending"
    },
    "tags": []
   },
   "outputs": [],
   "source": [
    "short_only_wo_fair_value = engine.calculate_equity_curve(calculate_net=False)"
   ]
  },
  {
   "cell_type": "code",
   "execution_count": null,
   "id": "c3025761",
   "metadata": {
    "papermill": {
     "duration": null,
     "end_time": null,
     "exception": null,
     "start_time": null,
     "status": "pending"
    },
    "tags": []
   },
   "outputs": [],
   "source": [
    "engine = BacktestEngine(\n",
    "    signal=signal.CrushSpreadSimon1999InSample(\n",
    "        ma_lookback=5,\n",
    "        ma_entry=300,\n",
    "        ma_exit=300,\n",
    "        fair_value=False,\n",
    "        long_position=False,\n",
    "        short_position=True,\n",
    "    ),\n",
    "    **common_kwargs,\n",
    ")\n",
    "engine.run()"
   ]
  },
  {
   "cell_type": "code",
   "execution_count": null,
   "id": "ec801c1b",
   "metadata": {
    "papermill": {
     "duration": null,
     "end_time": null,
     "exception": null,
     "start_time": null,
     "status": "pending"
    },
    "tags": []
   },
   "outputs": [],
   "source": [
    "short_only_wo_fair_value2 = engine.calculate_equity_curve(calculate_net=False)"
   ]
  },
  {
   "cell_type": "code",
   "execution_count": null,
   "id": "6b1e72ed",
   "metadata": {
    "papermill": {
     "duration": null,
     "end_time": null,
     "exception": null,
     "start_time": null,
     "status": "pending"
    },
    "tags": []
   },
   "outputs": [],
   "source": [
    "levels3 = pd.concat((short_only_wo_fair_value.rename('SO: Entry threshold = $100'), \n",
    "                     short_only_wo_fair_value2.rename('SO: Entry threshold = $300')), axis=1)"
   ]
  },
  {
   "cell_type": "markdown",
   "id": "3979f033",
   "metadata": {
    "papermill": {
     "duration": null,
     "end_time": null,
     "exception": null,
     "start_time": null,
     "status": "pending"
    },
    "tags": []
   },
   "source": [
    "Again, interestingly, short-only strategy performed well in the out-of-sample period. However it started to underperform since around 2013."
   ]
  },
  {
   "cell_type": "code",
   "execution_count": null,
   "id": "aec584b7-8ab4-4938-ba2f-cdf5b6fbc34c",
   "metadata": {
    "papermill": {
     "duration": null,
     "end_time": null,
     "exception": null,
     "start_time": null,
     "status": "pending"
    },
    "tags": []
   },
   "outputs": [],
   "source": [
    "fig, ax = plt.subplots(figsize=(8, 5))\n",
    "levels3.plot(ax=ax, logy=True);\n",
    "ax.set_title('Crush spread mean-reversion\\n(Short-only, without fair value mode, Simon 1999)')\n",
    "ax.set_ylabel('Cumulative returns');"
   ]
  },
  {
   "cell_type": "code",
   "execution_count": null,
   "id": "08669996",
   "metadata": {
    "papermill": {
     "duration": null,
     "end_time": null,
     "exception": null,
     "start_time": null,
     "status": "pending"
    },
    "tags": []
   },
   "outputs": [],
   "source": [
    "levels3.pipe(Performance).summary()"
   ]
  },
  {
   "cell_type": "markdown",
   "id": "5eba22a4",
   "metadata": {
    "papermill": {
     "duration": null,
     "end_time": null,
     "exception": null,
     "start_time": null,
     "status": "pending"
    },
    "tags": []
   },
   "source": [
    "### Short-only with the fair value model"
   ]
  },
  {
   "cell_type": "code",
   "execution_count": null,
   "id": "b4bc6ce0",
   "metadata": {
    "papermill": {
     "duration": null,
     "end_time": null,
     "exception": null,
     "start_time": null,
     "status": "pending"
    },
    "tags": []
   },
   "outputs": [],
   "source": [
    "engine = BacktestEngine(\n",
    "    signal=signal.CrushSpreadSimon1999InSample(\n",
    "        ma_lookback=5,\n",
    "        ma_entry=100,\n",
    "        ma_exit=100,\n",
    "        fair_value=True,\n",
    "        fair_value_entry=0,\n",
    "        fair_value_end_date=datetime(1995, 2, 28),\n",
    "        long_position=False,\n",
    "        short_position=True,\n",
    "    ),\n",
    "    **common_kwargs,\n",
    ")\n",
    "engine.run()"
   ]
  },
  {
   "cell_type": "code",
   "execution_count": null,
   "id": "44c21811",
   "metadata": {
    "papermill": {
     "duration": null,
     "end_time": null,
     "exception": null,
     "start_time": null,
     "status": "pending"
    },
    "tags": []
   },
   "outputs": [],
   "source": [
    "short_only_with_fair_value = engine.calculate_equity_curve(calculate_net=False)"
   ]
  },
  {
   "cell_type": "code",
   "execution_count": null,
   "id": "c1135c7b",
   "metadata": {
    "papermill": {
     "duration": null,
     "end_time": null,
     "exception": null,
     "start_time": null,
     "status": "pending"
    },
    "tags": []
   },
   "outputs": [],
   "source": [
    "engine = BacktestEngine(\n",
    "    signal=signal.CrushSpreadSimon1999InSample(\n",
    "        ma_lookback=5,\n",
    "        ma_entry=100,\n",
    "        ma_exit=100,\n",
    "        fair_value=True,\n",
    "        fair_value_entry=0.1,\n",
    "        fair_value_end_date=datetime(1995, 2, 28),\n",
    "        long_position=False,\n",
    "        short_position=True,\n",
    "    ),\n",
    "    **common_kwargs,\n",
    ")\n",
    "engine.run()"
   ]
  },
  {
   "cell_type": "code",
   "execution_count": null,
   "id": "366e7faf",
   "metadata": {
    "papermill": {
     "duration": null,
     "end_time": null,
     "exception": null,
     "start_time": null,
     "status": "pending"
    },
    "tags": []
   },
   "outputs": [],
   "source": [
    "short_only_with_fair_value2 = engine.calculate_equity_curve(calculate_net=False)"
   ]
  },
  {
   "cell_type": "code",
   "execution_count": null,
   "id": "a904ca27",
   "metadata": {
    "papermill": {
     "duration": null,
     "end_time": null,
     "exception": null,
     "start_time": null,
     "status": "pending"
    },
    "tags": []
   },
   "outputs": [],
   "source": [
    "levels4 = pd.concat((short_only_with_fair_value.rename('SO: MA entry = $100, FV entry = 0.0'), \n",
    "                     short_only_with_fair_value2.rename('SO: MA entry = $100, FV entry = 0.1')), axis=1)"
   ]
  },
  {
   "cell_type": "markdown",
   "id": "bcf3b9c6",
   "metadata": {
    "papermill": {
     "duration": null,
     "end_time": null,
     "exception": null,
     "start_time": null,
     "status": "pending"
    },
    "tags": []
   },
   "source": [
    "The fair value model almost stopped taking positions in the out-of-sample period because the regression redisual started to drift away from zero. This suggests that the model needs to be refit on a rolling basis."
   ]
  },
  {
   "cell_type": "code",
   "execution_count": null,
   "id": "4451bc04-8427-44a7-8c1d-5d5a9ca29e6b",
   "metadata": {
    "papermill": {
     "duration": null,
     "end_time": null,
     "exception": null,
     "start_time": null,
     "status": "pending"
    },
    "tags": []
   },
   "outputs": [],
   "source": [
    "fig, ax = plt.subplots(figsize=(8, 5))\n",
    "levels4.plot(ax=ax, logy=True);\n",
    "ax.set_title('Crush spread mean-reversion\\n(Short-only, with fair value mode, Simon 1999)')\n",
    "ax.set_ylabel('Cumulative returns');"
   ]
  },
  {
   "cell_type": "code",
   "execution_count": null,
   "id": "aa4e3222",
   "metadata": {
    "papermill": {
     "duration": null,
     "end_time": null,
     "exception": null,
     "start_time": null,
     "status": "pending"
    },
    "tags": []
   },
   "outputs": [],
   "source": [
    "levels4.pipe(Performance).summary()"
   ]
  },
  {
   "cell_type": "markdown",
   "id": "d6521f16",
   "metadata": {
    "papermill": {
     "duration": null,
     "end_time": null,
     "exception": null,
     "start_time": null,
     "status": "pending"
    },
    "tags": []
   },
   "source": [
    "# Post publication"
   ]
  },
  {
   "cell_type": "code",
   "execution_count": null,
   "id": "8745e652",
   "metadata": {
    "papermill": {
     "duration": null,
     "end_time": null,
     "exception": null,
     "start_time": null,
     "status": "pending"
    },
    "tags": []
   },
   "outputs": [],
   "source": [
    "publication_date = datetime(1999, 4, 27)"
   ]
  },
  {
   "cell_type": "code",
   "execution_count": null,
   "id": "4f136cfa",
   "metadata": {
    "papermill": {
     "duration": null,
     "end_time": null,
     "exception": null,
     "start_time": null,
     "status": "pending"
    },
    "tags": []
   },
   "outputs": [],
   "source": [
    "fig, ax = plt.subplots(1, 2, figsize=(14, 4))\n",
    "levels1.plot(ax=ax[0], logy=True);\n",
    "ax[0].set_title('Crush spread mean-reversion\\n(Long-only, without fair value mode, Simon 1999)')\n",
    "ax[0].set_ylabel('Cumulative returns');\n",
    "ax[0].axvline(publication_date, lw=1, ls='--', color='black')\n",
    "ax[0].text(publication_date, 100, 'Publication date ', ha='right')\n",
    "\n",
    "levels1.loc[publication_date:].pipe(rebase).plot(ax=ax[1], logy=True);\n",
    "ax[1].set_title('Post publication');"
   ]
  },
  {
   "cell_type": "code",
   "execution_count": null,
   "id": "c055d72e",
   "metadata": {
    "papermill": {
     "duration": null,
     "end_time": null,
     "exception": null,
     "start_time": null,
     "status": "pending"
    },
    "tags": []
   },
   "outputs": [],
   "source": [
    "fig, ax = plt.subplots(1, 2, figsize=(14, 4))\n",
    "levels3.plot(ax=ax[0], logy=True);\n",
    "ax[0].set_title('Crush spread mean-reversion\\n(Short-only, without fair value mode, Simon 1999)')\n",
    "ax[0].set_ylabel('Cumulative returns');\n",
    "ax[0].axvline(publication_date, lw=1, ls='--', color='black')\n",
    "ax[0].text(publication_date, 100, 'Publication date ', ha='right')\n",
    "\n",
    "levels3.loc[publication_date:].pipe(rebase).plot(ax=ax[1], logy=True);\n",
    "ax[1].set_title('Post publication');"
   ]
  },
  {
   "cell_type": "code",
   "execution_count": null,
   "id": "18d734fc",
   "metadata": {
    "papermill": {
     "duration": null,
     "end_time": null,
     "exception": null,
     "start_time": null,
     "status": "pending"
    },
    "tags": []
   },
   "outputs": [],
   "source": [
    "fig, ax = plt.subplots(1, 2, figsize=(14, 4))\n",
    "levels4.plot(ax=ax[0], logy=True);\n",
    "ax[0].set_title('Crush spread mean-reversion\\n(Short-only, with fair value mode, Simon 1999)')\n",
    "ax[0].set_ylabel('Cumulative returns');\n",
    "ax[0].axvline(publication_date, lw=1, ls='--', color='black')\n",
    "ax[0].text(publication_date, 100, 'Publication date ', ha='right')\n",
    "\n",
    "levels4.loc[publication_date:].pipe(rebase).plot(ax=ax[1], logy=True);\n",
    "ax[1].set_title('Post publication');"
   ]
  },
  {
   "cell_type": "markdown",
   "id": "9363135f",
   "metadata": {
    "papermill": {
     "duration": null,
     "end_time": null,
     "exception": null,
     "start_time": null,
     "status": "pending"
    },
    "tags": []
   },
   "source": [
    "# Seasonality\n",
    "\n",
    "In the regression analysis, we saw that the crush spread tended to be higher in the growing season, and lower in winter. Let's see if this pattern can be captured in a simple long/short strategy."
   ]
  },
  {
   "cell_type": "code",
   "execution_count": null,
   "id": "748b6846",
   "metadata": {
    "papermill": {
     "duration": null,
     "end_time": null,
     "exception": null,
     "start_time": null,
     "status": "pending"
    },
    "tags": []
   },
   "outputs": [],
   "source": [
    "soybean_1st = BacktestEngine(instrument=InstrumentDef('S', collateral=10000), log_level=logging.WARN)\n",
    "soybean_1st.run()"
   ]
  },
  {
   "cell_type": "code",
   "execution_count": null,
   "id": "680e65e7",
   "metadata": {
    "papermill": {
     "duration": null,
     "end_time": null,
     "exception": null,
     "start_time": null,
     "status": "pending"
    },
    "tags": []
   },
   "outputs": [],
   "source": [
    "soybean_meal_1st = BacktestEngine(instrument=InstrumentDef('SM', collateral=10000), log_level=logging.WARN)\n",
    "soybean_meal_1st.run()"
   ]
  },
  {
   "cell_type": "code",
   "execution_count": null,
   "id": "53d7245f",
   "metadata": {
    "papermill": {
     "duration": null,
     "end_time": null,
     "exception": null,
     "start_time": null,
     "status": "pending"
    },
    "tags": []
   },
   "outputs": [],
   "source": [
    "soybean_oil_1st = BacktestEngine(instrument=InstrumentDef('BO', collateral=10000), log_level=logging.WARN)\n",
    "soybean_oil_1st.run()"
   ]
  },
  {
   "cell_type": "markdown",
   "id": "80039d8d",
   "metadata": {
    "papermill": {
     "duration": null,
     "end_time": null,
     "exception": null,
     "start_time": null,
     "status": "pending"
    },
    "tags": []
   },
   "source": [
    "`crush_spread_return` contains returns of a long position in the crush spread (1 lot each)."
   ]
  },
  {
   "cell_type": "code",
   "execution_count": null,
   "id": "f38c179b",
   "metadata": {
    "papermill": {
     "duration": null,
     "end_time": null,
     "exception": null,
     "start_time": null,
     "status": "pending"
    },
    "tags": []
   },
   "outputs": [],
   "source": [
    "crush_spread_return = pd.concat((\n",
    "    soybean_meal_1st.get_return(calculate_net=False).mul(100),\n",
    "    soybean_oil_1st.get_return(calculate_net=False).mul(600),\n",
    "    soybean_1st.get_return(calculate_net=False).mul(-50),\n",
    "), axis=1).fillna(0).sum(axis=1)"
   ]
  },
  {
   "cell_type": "code",
   "execution_count": null,
   "id": "d18ae258",
   "metadata": {
    "papermill": {
     "duration": null,
     "end_time": null,
     "exception": null,
     "start_time": null,
     "status": "pending"
    },
    "tags": []
   },
   "outputs": [],
   "source": [
    "seasonality = crush_spread_return.to_frame('return').assign(\n",
    "    growing=lambda df: -1 * df['return'].where((df.index.month >= 2) & (df.index.month <= 6)),\n",
    "    winter=lambda df: df['return'].where((df.index.month >= 9) & (df.index.month <= 11)),\n",
    ").fillna(0).assign(\n",
    "    long_short=lambda df: df['growing'] + df['winter']\n",
    ").add(1).cumprod().rename(columns={\n",
    "    'return': 'Unconditional long',\n",
    "    'growing': 'Short growing season',\n",
    "    'winter': 'Long winter',\n",
    "    'long_short': 'Short growing season + long winter',\n",
    "})"
   ]
  },
  {
   "cell_type": "markdown",
   "id": "7dcb2de8",
   "metadata": {
    "papermill": {
     "duration": null,
     "end_time": null,
     "exception": null,
     "start_time": null,
     "status": "pending"
    },
    "tags": []
   },
   "source": [
    "The result is consistent with the regression, however it doesn't look a very attractive strategy."
   ]
  },
  {
   "cell_type": "code",
   "execution_count": null,
   "id": "0917176f-0a11-472b-a228-e7ef300790ac",
   "metadata": {
    "papermill": {
     "duration": null,
     "end_time": null,
     "exception": null,
     "start_time": null,
     "status": "pending"
    },
    "tags": []
   },
   "outputs": [],
   "source": [
    "fig, ax = plt.subplots(figsize=(8, 5))\n",
    "\n",
    "seasonality.plot(ax=ax, logy=True);\n",
    "ax.set_title('Crush spread seasonality strategy')\n",
    "ax.set_ylabel('Cumulative returns');"
   ]
  },
  {
   "cell_type": "code",
   "execution_count": null,
   "id": "a6add8a3",
   "metadata": {
    "papermill": {
     "duration": null,
     "end_time": null,
     "exception": null,
     "start_time": null,
     "status": "pending"
    },
    "tags": []
   },
   "outputs": [],
   "source": [
    "seasonality.pipe(Performance).summary()"
   ]
  },
  {
   "cell_type": "markdown",
   "id": "e7fc622d",
   "metadata": {
    "papermill": {
     "duration": null,
     "end_time": null,
     "exception": null,
     "start_time": null,
     "status": "pending"
    },
    "tags": []
   },
   "source": [
    "# Note\n",
    "- As mentioned above, the fair value model is fit using data until Feb-1995. This means the performance before this period is in-sample and hence not a valid trading strategy\n",
    "- The trading strategy appears to be highly sensitive to the threshold for the fair value model\n",
    "- The regression and backtest suggest that the fair value model is time-varying which means the model needs to be refit on a regular basis"
   ]
  },
  {
   "cell_type": "markdown",
   "id": "49b1e985",
   "metadata": {
    "papermill": {
     "duration": null,
     "end_time": null,
     "exception": null,
     "start_time": null,
     "status": "pending"
    },
    "tags": []
   },
   "source": [
    "# Reference\n",
    "- Mitchell, J.B., 2010. Soybean futures crush spread arbitrage: Trading strategies and market efficiency. Journal of Risk and Financial Management, 3(1), pp.63-96.\n",
    "- Simon, D.P., 1999. The soybean crush spread: Empirical evidence and trading strategies. Journal of Futures Markets: Futures, Options, and Other Derivative Products, 19(3), pp.271-289."
   ]
  },
  {
   "cell_type": "code",
   "execution_count": null,
   "id": "5ad1f096",
   "metadata": {
    "papermill": {
     "duration": null,
     "end_time": null,
     "exception": null,
     "start_time": null,
     "status": "pending"
    },
    "tags": []
   },
   "outputs": [],
   "source": [
    "print(f'Updated: {datetime.now(pytz.utc):%d-%b-%Y %H:%M}')"
   ]
  }
 ],
 "metadata": {
  "kernelspec": {
   "display_name": "Python 3 (ipykernel)",
   "language": "python",
   "name": "python3"
  },
  "language_info": {
   "codemirror_mode": {
    "name": "ipython",
    "version": 3
   },
   "file_extension": ".py",
   "mimetype": "text/x-python",
   "name": "python",
   "nbconvert_exporter": "python",
   "pygments_lexer": "ipython3",
   "version": "3.12.3"
  },
  "papermill": {
   "default_parameters": {},
   "duration": null,
   "end_time": null,
   "environment_variables": {},
   "exception": null,
   "input_path": "notebooks/papermill/commodity_crush_spread_stat_arb.ipynb",
   "output_path": "notebooks/commodity_crush_spread_stat_arb.ipynb",
   "parameters": {},
   "start_time": "2024-06-22T09:58:07.520341",
   "version": "2.4.0"
  }
 },
 "nbformat": 4,
 "nbformat_minor": 5
}