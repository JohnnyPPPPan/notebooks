{
 "cells": [
  {
   "cell_type": "markdown",
   "id": "34dcc7e8",
   "metadata": {
    "papermill": {
     "duration": 0.004601,
     "end_time": "2024-06-17T09:38:25.913200",
     "exception": false,
     "start_time": "2024-06-17T09:38:25.908599",
     "status": "completed"
    },
    "tags": []
   },
   "source": [
    "# Trend-following breakout strategy\n",
    "\n",
    "This notebook displays the performance of trend-following strategies across major asset classes. The difference here compared to Moskowitz et al (2012) is that the trend signal is computed by the so-called \"breakout\" methodology. In this analysis, a simple breakout rule is tested where a long position is entered when the current price is above the local max (lookback = 1 year). The long position is maintained until the price goes below trailing minimum after which the position is flipped to short. Similar to Moskowitz et al (2012) the resulting signal is binary where there is no neutral position."
   ]
  },
  {
   "cell_type": "code",
   "execution_count": 1,
   "id": "7b5130b8",
   "metadata": {
    "ExecuteTime": {
     "end_time": "2020-08-30T21:08:49.524262Z",
     "start_time": "2020-08-30T21:08:48.720115Z"
    },
    "execution": {
     "iopub.execute_input": "2024-06-17T09:38:25.923488Z",
     "iopub.status.busy": "2024-06-17T09:38:25.923094Z",
     "iopub.status.idle": "2024-06-17T09:38:29.260031Z",
     "shell.execute_reply": "2024-06-17T09:38:29.258848Z"
    },
    "papermill": {
     "duration": 3.345384,
     "end_time": "2024-06-17T09:38:29.263116",
     "exception": false,
     "start_time": "2024-06-17T09:38:25.917732",
     "status": "completed"
    },
    "tags": []
   },
   "outputs": [],
   "source": [
    "from datetime import datetime\n",
    "import logging\n",
    "import warnings\n",
    "warnings.simplefilter(action='ignore', category=FutureWarning)\n",
    "\n",
    "import pandas as pd\n",
    "import pytz\n",
    "import matplotlib.pyplot as plt\n",
    "plt.style.use('bmh')\n",
    "\n",
    "from vivace.backtest import BacktestEngine, signal, processing\n",
    "from vivace.backtest.analytics import rebase\n",
    "from vivace.backtest.contract import all_futures_moskowitz2012\n",
    "from vivace.backtest.stats import Performance, PerfStats\n",
    "from vivace.enums import Strategy, Weighting"
   ]
  },
  {
   "cell_type": "markdown",
   "id": "1e4e42a6",
   "metadata": {
    "papermill": {
     "duration": 0.007034,
     "end_time": "2024-06-17T09:38:29.277879",
     "exception": false,
     "start_time": "2024-06-17T09:38:29.270845",
     "status": "completed"
    },
    "tags": []
   },
   "source": [
    "# Data\n",
    "\n",
    "The same trading universe as `trend_following_moskowitz2012.ipynb` is used covering 50 futures contracts."
   ]
  },
  {
   "cell_type": "code",
   "execution_count": 2,
   "id": "52061b41",
   "metadata": {
    "ExecuteTime": {
     "end_time": "2020-08-30T21:08:49.529214Z",
     "start_time": "2020-08-30T21:08:49.525465Z"
    },
    "execution": {
     "iopub.execute_input": "2024-06-17T09:38:29.295825Z",
     "iopub.status.busy": "2024-06-17T09:38:29.295264Z",
     "iopub.status.idle": "2024-06-17T09:38:29.308666Z",
     "shell.execute_reply": "2024-06-17T09:38:29.305138Z"
    },
    "papermill": {
     "duration": 0.029239,
     "end_time": "2024-06-17T09:38:29.314765",
     "exception": false,
     "start_time": "2024-06-17T09:38:29.285526",
     "status": "completed"
    },
    "tags": []
   },
   "outputs": [
    {
     "data": {
      "text/plain": [
       "array(['Aluminium', 'Brent Crude Oil', 'Live Cattle', 'Cocoa', 'Coffee',\n",
       "       'Copper', 'Corn', 'Cotton', 'WTI Crude Oil', 'Gas Oil', 'Gold',\n",
       "       'Heating Oil', 'Lean Hog', 'Natural Gas', 'Nickel', 'Platinum',\n",
       "       'Silver', 'Soybean', 'Soybean Meal', 'Soybean Oil', 'Sugar',\n",
       "       'Gasoline', 'Wheat', 'Zinc', 'Australian Dollar', 'British Pound',\n",
       "       'Euro', 'Canadian Dollar', 'Japanese Yen', 'SPI 200', 'DAX',\n",
       "       'IBEX 35', 'CAC 40', 'Topix', 'AEX', 'FTSE 100', 'S&P 500',\n",
       "       'Australia 3-year Treasury', 'Australia 10-year Treasury',\n",
       "       'Germany Schatz', 'Germany Bobl', 'Germany Bund', 'Germany Buxl',\n",
       "       'Canada 10-year Treasury', 'JGB', 'Gilt', 'US 2-year Treasury',\n",
       "       'US 5-year Treasury', 'US 10-year Treasury', 'US Treasury Bond'],\n",
       "      dtype=object)"
      ]
     },
     "execution_count": 2,
     "metadata": {},
     "output_type": "execute_result"
    }
   ],
   "source": [
    "all_futures_moskowitz2012['name'].values"
   ]
  },
  {
   "cell_type": "code",
   "execution_count": 3,
   "id": "1d374f21",
   "metadata": {
    "ExecuteTime": {
     "end_time": "2020-08-30T21:08:49.542477Z",
     "start_time": "2020-08-30T21:08:49.530487Z"
    },
    "execution": {
     "iopub.execute_input": "2024-06-17T09:38:29.328637Z",
     "iopub.status.busy": "2024-06-17T09:38:29.328330Z",
     "iopub.status.idle": "2024-06-17T09:38:29.332610Z",
     "shell.execute_reply": "2024-06-17T09:38:29.332042Z"
    },
    "papermill": {
     "duration": 0.013966,
     "end_time": "2024-06-17T09:38:29.334297",
     "exception": false,
     "start_time": "2024-06-17T09:38:29.320331",
     "status": "completed"
    },
    "tags": []
   },
   "outputs": [
    {
     "data": {
      "text/plain": [
       "50"
      ]
     },
     "execution_count": 3,
     "metadata": {},
     "output_type": "execute_result"
    }
   ],
   "source": [
    "len(all_futures_moskowitz2012)"
   ]
  },
  {
   "cell_type": "markdown",
   "id": "6e4bfd9a",
   "metadata": {
    "papermill": {
     "duration": 0.006799,
     "end_time": "2024-06-17T09:38:29.348188",
     "exception": false,
     "start_time": "2024-06-17T09:38:29.341389",
     "status": "completed"
    },
    "tags": []
   },
   "source": [
    "# Performance"
   ]
  },
  {
   "cell_type": "markdown",
   "id": "e17da5e7",
   "metadata": {
    "papermill": {
     "duration": 0.007007,
     "end_time": "2024-06-17T09:38:29.362325",
     "exception": false,
     "start_time": "2024-06-17T09:38:29.355318",
     "status": "completed"
    },
    "tags": []
   },
   "source": [
    "## Breakout strategy\n",
    "\n",
    "The above instruments are combined with a equal-risk (realised volatility) weighting methodology. "
   ]
  },
  {
   "cell_type": "code",
   "execution_count": 4,
   "id": "5a39c03c",
   "metadata": {
    "execution": {
     "iopub.execute_input": "2024-06-17T09:38:29.377487Z",
     "iopub.status.busy": "2024-06-17T09:38:29.377201Z",
     "iopub.status.idle": "2024-06-17T09:47:47.138166Z",
     "shell.execute_reply": "2024-06-17T09:47:47.137408Z"
    },
    "papermill": {
     "duration": 557.771298,
     "end_time": "2024-06-17T09:47:47.140520",
     "exception": false,
     "start_time": "2024-06-17T09:38:29.369222",
     "status": "completed"
    },
    "tags": []
   },
   "outputs": [],
   "source": [
    "engine_breakout = BacktestEngine(\n",
    "    strategy=Strategy.DELTA_ONE.value,\n",
    "    instrument=all_futures_moskowitz2012.index,\n",
    "    signal=signal.ParallelSignal([\n",
    "        signal.VolatilityScale(agg_method='ewm', com=60, ann_factor=261, \n",
    "                               target_volatility=0.4, signal_cap=0.95,\n",
    "                               post_process=processing.AsFreq(freq='m', method='pad')),\n",
    "        signal.BreakoutLocalExtreme()\n",
    "    ], weighting='product'),\n",
    "    weighting=Weighting.EQUAL_WEIGHT.value,\n",
    "    log_level=logging.WARN,\n",
    ")\n",
    "engine_breakout.run()"
   ]
  },
  {
   "cell_type": "code",
   "execution_count": 5,
   "id": "7aed52b8",
   "metadata": {
    "execution": {
     "iopub.execute_input": "2024-06-17T09:47:47.157630Z",
     "iopub.status.busy": "2024-06-17T09:47:47.157388Z",
     "iopub.status.idle": "2024-06-17T09:48:52.672197Z",
     "shell.execute_reply": "2024-06-17T09:48:52.671513Z"
    },
    "papermill": {
     "duration": 65.525775,
     "end_time": "2024-06-17T09:48:52.674468",
     "exception": false,
     "start_time": "2024-06-17T09:47:47.148693",
     "status": "completed"
    },
    "tags": []
   },
   "outputs": [],
   "source": [
    "portfolio_breakout = (engine_breakout.calculate_equity_curve(calculate_net=False, rebalance_freq='m')\n",
    "                      .rename('Trend-following breakout portfolio'))"
   ]
  },
  {
   "cell_type": "markdown",
   "id": "f54c76a9",
   "metadata": {
    "papermill": {
     "duration": 0.009907,
     "end_time": "2024-06-17T09:48:52.692047",
     "exception": false,
     "start_time": "2024-06-17T09:48:52.682140",
     "status": "completed"
    },
    "tags": []
   },
   "source": [
    "## TSMOM\n",
    "\n",
    "The same backtest configuration as `trend_following_moskowitz2012.ipynb` is analyses as a benchmark."
   ]
  },
  {
   "cell_type": "code",
   "execution_count": 6,
   "id": "c9d98a30",
   "metadata": {
    "execution": {
     "iopub.execute_input": "2024-06-17T09:48:52.706901Z",
     "iopub.status.busy": "2024-06-17T09:48:52.706658Z",
     "iopub.status.idle": "2024-06-17T09:58:12.374221Z",
     "shell.execute_reply": "2024-06-17T09:58:12.373548Z"
    },
    "papermill": {
     "duration": 559.67853,
     "end_time": "2024-06-17T09:58:12.377739",
     "exception": false,
     "start_time": "2024-06-17T09:48:52.699209",
     "status": "completed"
    },
    "tags": []
   },
   "outputs": [],
   "source": [
    "engine_tsmom = BacktestEngine(\n",
    "    strategy=Strategy.DELTA_ONE.value,\n",
    "    instrument=all_futures_moskowitz2012.index,\n",
    "    signal=signal.ParallelSignal([\n",
    "        signal.VolatilityScale(agg_method='ewm', com=60, ann_factor=261, \n",
    "                               target_volatility=0.4, signal_cap=0.95,\n",
    "                               post_process=processing.AsFreq(freq='m', method='pad')),\n",
    "        signal.TSMOMMoskowitz2012(post_process=processing.AsFreq(freq='m', method='pad'))\n",
    "    ], weighting='product'),\n",
    "    weighting=Weighting.EQUAL_WEIGHT.value,\n",
    "    log_level=logging.WARN,\n",
    ")\n",
    "engine_tsmom.run()"
   ]
  },
  {
   "cell_type": "code",
   "execution_count": 7,
   "id": "ac3fdce5",
   "metadata": {
    "ExecuteTime": {
     "end_time": "2020-08-30T21:19:28.992288Z",
     "start_time": "2020-08-30T21:18:24.662276Z"
    },
    "execution": {
     "iopub.execute_input": "2024-06-17T09:58:12.388994Z",
     "iopub.status.busy": "2024-06-17T09:58:12.388748Z",
     "iopub.status.idle": "2024-06-17T09:59:19.045583Z",
     "shell.execute_reply": "2024-06-17T09:59:19.044895Z"
    },
    "papermill": {
     "duration": 66.664214,
     "end_time": "2024-06-17T09:59:19.047206",
     "exception": false,
     "start_time": "2024-06-17T09:58:12.382992",
     "status": "completed"
    },
    "tags": []
   },
   "outputs": [],
   "source": [
    "portfolio_tsmom = (engine_tsmom.calculate_equity_curve(calculate_net=False, rebalance_freq='m')\n",
    "                   .rename('Trend-following portfolio (Moskowitz 2012)'))"
   ]
  },
  {
   "cell_type": "markdown",
   "id": "1708c583",
   "metadata": {
    "papermill": {
     "duration": 0.004855,
     "end_time": "2024-06-17T09:59:19.057242",
     "exception": false,
     "start_time": "2024-06-17T09:59:19.052387",
     "status": "completed"
    },
    "tags": []
   },
   "source": [
    "## Portfolio\n",
    "\n",
    "As mentioned in Chevallier and Ielpo (2014), the breakout strategy seem to capture the same premium as the TSMOM implementation. Performance look broadly similar to each other."
   ]
  },
  {
   "cell_type": "code",
   "execution_count": 8,
   "id": "2e02aadb",
   "metadata": {
    "ExecuteTime": {
     "end_time": "2020-08-30T21:19:29.413070Z",
     "start_time": "2020-08-30T21:19:28.993404Z"
    },
    "execution": {
     "iopub.execute_input": "2024-06-17T09:59:19.067828Z",
     "iopub.status.busy": "2024-06-17T09:59:19.067582Z",
     "iopub.status.idle": "2024-06-17T09:59:19.732941Z",
     "shell.execute_reply": "2024-06-17T09:59:19.732368Z"
    },
    "papermill": {
     "duration": 0.673896,
     "end_time": "2024-06-17T09:59:19.735804",
     "exception": false,
     "start_time": "2024-06-17T09:59:19.061908",
     "status": "completed"
    },
    "tags": []
   },
   "outputs": [
    {
     "data": {
      "image/png": "[encoded data removed]",
      "text/plain": [
       "<Figure size 800x450 with 1 Axes>"
      ]
     },
     "metadata": {},
     "output_type": "display_data"
    }
   ],
   "source": [
    "fig, ax = plt.subplots(figsize=(8, 4.5))\n",
    "portfolio_comparison = pd.concat((\n",
    "    portfolio_breakout,\n",
    "    portfolio_tsmom\n",
    "), axis=1)\n",
    "\n",
    "portfolio_comparison.plot(ax=ax, logy=True);\n",
    "ax.set_title('Trend-following portfolio comparison')\n",
    "ax.set_ylabel('Cumulative returns');"
   ]
  },
  {
   "cell_type": "code",
   "execution_count": 9,
   "id": "003dd716",
   "metadata": {
    "ExecuteTime": {
     "end_time": "2020-08-30T21:19:29.721845Z",
     "start_time": "2020-08-30T21:19:29.414098Z"
    },
    "execution": {
     "iopub.execute_input": "2024-06-17T09:59:19.753554Z",
     "iopub.status.busy": "2024-06-17T09:59:19.753046Z",
     "iopub.status.idle": "2024-06-17T09:59:19.840579Z",
     "shell.execute_reply": "2024-06-17T09:59:19.839944Z"
    },
    "papermill": {
     "duration": 0.098427,
     "end_time": "2024-06-17T09:59:19.842493",
     "exception": false,
     "start_time": "2024-06-17T09:59:19.744066",
     "status": "completed"
    },
    "tags": []
   },
   "outputs": [
    {
     "data": {
      "text/html": [
       "<div>\n",
       "<style scoped>\n",
       "    .dataframe tbody tr th:only-of-type {\n",
       "        vertical-align: middle;\n",
       "    }\n",
       "\n",
       "    .dataframe tbody tr th {\n",
       "        vertical-align: top;\n",
       "    }\n",
       "\n",
       "    .dataframe thead th {\n",
       "        text-align: right;\n",
       "    }\n",
       "</style>\n",
       "<table border=\"1\" class=\"dataframe\">\n",
       "  <thead>\n",
       "    <tr style=\"text-align: right;\">\n",
       "      <th></th>\n",
       "      <th>Trend-following breakout portfolio</th>\n",
       "      <th>Trend-following portfolio (Moskowitz 2012)</th>\n",
       "    </tr>\n",
       "  </thead>\n",
       "  <tbody>\n",
       "    <tr>\n",
       "      <th>CAGR</th>\n",
       "      <td>0.119120</td>\n",
       "      <td>0.133753</td>\n",
       "    </tr>\n",
       "    <tr>\n",
       "      <th>Annualised vol</th>\n",
       "      <td>0.121390</td>\n",
       "      <td>0.123051</td>\n",
       "    </tr>\n",
       "    <tr>\n",
       "      <th>Sharpe ratio</th>\n",
       "      <td>0.981302</td>\n",
       "      <td>1.086968</td>\n",
       "    </tr>\n",
       "    <tr>\n",
       "      <th>Max drawdown</th>\n",
       "      <td>0.355000</td>\n",
       "      <td>0.397622</td>\n",
       "    </tr>\n",
       "    <tr>\n",
       "      <th>Calmar ratio</th>\n",
       "      <td>0.335549</td>\n",
       "      <td>0.336382</td>\n",
       "    </tr>\n",
       "    <tr>\n",
       "      <th>Skewness</th>\n",
       "      <td>-0.204483</td>\n",
       "      <td>-0.343287</td>\n",
       "    </tr>\n",
       "    <tr>\n",
       "      <th>Kurtosis</th>\n",
       "      <td>7.486127</td>\n",
       "      <td>7.412738</td>\n",
       "    </tr>\n",
       "    <tr>\n",
       "      <th>Worst return</th>\n",
       "      <td>-0.081832</td>\n",
       "      <td>-0.085340</td>\n",
       "    </tr>\n",
       "    <tr>\n",
       "      <th>Worst 1d return</th>\n",
       "      <td>-0.081832</td>\n",
       "      <td>-0.085340</td>\n",
       "    </tr>\n",
       "    <tr>\n",
       "      <th>Worst 1w return</th>\n",
       "      <td>-0.155506</td>\n",
       "      <td>-0.150663</td>\n",
       "    </tr>\n",
       "    <tr>\n",
       "      <th>Worst 1m return</th>\n",
       "      <td>-0.103004</td>\n",
       "      <td>-0.319905</td>\n",
       "    </tr>\n",
       "  </tbody>\n",
       "</table>\n",
       "</div>"
      ],
      "text/plain": [
       "                 Trend-following breakout portfolio  \\\n",
       "CAGR                                       0.119120   \n",
       "Annualised vol                             0.121390   \n",
       "Sharpe ratio                               0.981302   \n",
       "Max drawdown                               0.355000   \n",
       "Calmar ratio                               0.335549   \n",
       "Skewness                                  -0.204483   \n",
       "Kurtosis                                   7.486127   \n",
       "Worst return                              -0.081832   \n",
       "Worst 1d return                           -0.081832   \n",
       "Worst 1w return                           -0.155506   \n",
       "Worst 1m return                           -0.103004   \n",
       "\n",
       "                 Trend-following portfolio (Moskowitz 2012)  \n",
       "CAGR                                               0.133753  \n",
       "Annualised vol                                     0.123051  \n",
       "Sharpe ratio                                       1.086968  \n",
       "Max drawdown                                       0.397622  \n",
       "Calmar ratio                                       0.336382  \n",
       "Skewness                                          -0.343287  \n",
       "Kurtosis                                           7.412738  \n",
       "Worst return                                      -0.085340  \n",
       "Worst 1d return                                   -0.085340  \n",
       "Worst 1w return                                   -0.150663  \n",
       "Worst 1m return                                   -0.319905  "
      ]
     },
     "execution_count": 9,
     "metadata": {},
     "output_type": "execute_result"
    }
   ],
   "source": [
    "portfolio_comparison.pipe(Performance).summary()"
   ]
  },
  {
   "cell_type": "markdown",
   "id": "d252da4e",
   "metadata": {
    "papermill": {
     "duration": 0.013932,
     "end_time": "2024-06-17T09:59:19.865552",
     "exception": false,
     "start_time": "2024-06-17T09:59:19.851620",
     "status": "completed"
    },
    "tags": []
   },
   "source": [
    "## Breakdown by futures contract\n",
    "\n",
    "Most of the contracts contributed positively when the trend-following signal is applied."
   ]
  },
  {
   "cell_type": "code",
   "execution_count": null,
   "id": "e5a32dde",
   "metadata": {
    "ExecuteTime": {
     "end_time": "2020-08-30T21:20:30.856989Z",
     "start_time": "2020-08-30T21:19:29.723274Z"
    },
    "papermill": {
     "duration": null,
     "end_time": null,
     "exception": false,
     "start_time": "2024-06-17T09:59:19.879648",
     "status": "running"
    },
    "tags": []
   },
   "outputs": [],
   "source": [
    "instrument_breakout = engine_breakout.get_return_by_instrument(calculate_net=False).cumsum()\n",
    "instrument_tsmom = engine_tsmom.get_return_by_instrument(calculate_net=False).cumsum()"
   ]
  },
  {
   "cell_type": "code",
   "execution_count": null,
   "id": "d66df1b8",
   "metadata": {
    "ExecuteTime": {
     "end_time": "2020-08-30T21:20:31.258799Z",
     "start_time": "2020-08-30T21:20:30.858285Z"
    },
    "papermill": {
     "duration": null,
     "end_time": null,
     "exception": null,
     "start_time": null,
     "status": "pending"
    },
    "scrolled": true,
    "tags": []
   },
   "outputs": [],
   "source": [
    "sharpe_breakout = (instrument_breakout.pipe(Performance, return_type='diff').sharpe().T\n",
    "                   .join(all_futures_moskowitz2012)\n",
    "                   .sort_values(['asset_class', 'name'])\n",
    "                   .set_index('name')\n",
    "                   [PerfStats.SHARPE.value]\n",
    "                   .rename('Breakout'))\n",
    "sharpe_tsmom = (instrument_tsmom.pipe(Performance, return_type='diff').sharpe().T\n",
    "                .join(all_futures_moskowitz2012)\n",
    "                .sort_values(['asset_class', 'name'])\n",
    "                .set_index('name')\n",
    "                [PerfStats.SHARPE.value]\n",
    "                .rename('TSMOM'))"
   ]
  },
  {
   "cell_type": "markdown",
   "id": "e50c29fd",
   "metadata": {
    "papermill": {
     "duration": null,
     "end_time": null,
     "exception": null,
     "start_time": null,
     "status": "pending"
    },
    "tags": []
   },
   "source": [
    "From the performance breakdown below, it's hard to judge which is sperior or not. "
   ]
  },
  {
   "cell_type": "code",
   "execution_count": null,
   "id": "efbb1f1d",
   "metadata": {
    "ExecuteTime": {
     "end_time": "2020-08-30T21:20:31.707948Z",
     "start_time": "2020-08-30T21:20:31.259887Z"
    },
    "papermill": {
     "duration": null,
     "end_time": null,
     "exception": null,
     "start_time": null,
     "status": "pending"
    },
    "tags": []
   },
   "outputs": [],
   "source": [
    "fig, ax = plt.subplots(figsize=(14, 4))\n",
    "pd.concat((sharpe_breakout, sharpe_tsmom), axis=1).plot(kind='bar', ax=ax)\n",
    "\n",
    "ax.set_title('Trend-following portfolio comparison')\n",
    "ax.set_ylabel(PerfStats.SHARPE.value);\n",
    "ax.set_xlabel('Instrument name')\n",
    "ax.axhline(0, lw=1, color='black');\n",
    "ax.axvline(23.5, lw=1, color='black');\n",
    "ax.axvline(28.5, lw=1, color='black');\n",
    "ax.axvline(36.5, lw=1, color='black');"
   ]
  },
  {
   "cell_type": "markdown",
   "id": "46b44ba9",
   "metadata": {
    "papermill": {
     "duration": null,
     "end_time": null,
     "exception": null,
     "start_time": null,
     "status": "pending"
    },
    "tags": []
   },
   "source": [
    "## Post puiblication"
   ]
  },
  {
   "cell_type": "code",
   "execution_count": null,
   "id": "f92994da-bc44-4357-a717-f780381b9f74",
   "metadata": {
    "papermill": {
     "duration": null,
     "end_time": null,
     "exception": null,
     "start_time": null,
     "status": "pending"
    },
    "tags": []
   },
   "outputs": [],
   "source": [
    "publication_date = datetime(2013, 11, 18)\n",
    "\n",
    "fig, ax = plt.subplots(1, 2, figsize=(14, 4))\n",
    "portfolio_comparison.plot(ax=ax[0], logy=True);\n",
    "ax[0].set_title('Trend-following portfolio comparison')\n",
    "ax[0].set_ylabel('Cumulative returns');\n",
    "ax[0].axvline(publication_date, lw=1, ls='--', color='black')\n",
    "ax[0].text(publication_date, 100, 'Publication date ', ha='right')\n",
    "\n",
    "portfolio_comparison.loc[publication_date:].pipe(rebase).plot(ax=ax[1], logy=True);\n",
    "ax[1].set_title('Trend-following portfolio comparison\\n(post publication)');"
   ]
  },
  {
   "cell_type": "markdown",
   "id": "2c43fefc",
   "metadata": {
    "papermill": {
     "duration": null,
     "end_time": null,
     "exception": null,
     "start_time": null,
     "status": "pending"
    },
    "tags": []
   },
   "source": [
    "## Recent performance"
   ]
  },
  {
   "cell_type": "code",
   "execution_count": null,
   "id": "93d420b6",
   "metadata": {
    "ExecuteTime": {
     "end_time": "2020-08-30T21:20:32.428386Z",
     "start_time": "2020-08-30T21:20:32.223928Z"
    },
    "papermill": {
     "duration": null,
     "end_time": null,
     "exception": null,
     "start_time": null,
     "status": "pending"
    },
    "tags": []
   },
   "outputs": [],
   "source": [
    "fig, ax = plt.subplots(figsize=(8, 4.5))\n",
    "portfolio_comparison.tail(252 * 2).pipe(rebase).plot(ax=ax, logy=True);\n",
    "ax.set_title('Trend-following portfolio comparison')\n",
    "ax.set_ylabel('Cumulative returns');"
   ]
  },
  {
   "cell_type": "markdown",
   "id": "a10f01c7",
   "metadata": {
    "papermill": {
     "duration": null,
     "end_time": null,
     "exception": null,
     "start_time": null,
     "status": "pending"
    },
    "tags": []
   },
   "source": [
    "# Reference\n",
    "\n",
    "- Moskowitz, T.J., Ooi, Y.H. and Pedersen, L.H., 2012. Time series momentum. Journal of financial economics, 104(2), pp.228-250.\n",
    "- Chevallier, J. and Ielpo, F., 2014. “Time series momentum” in commodity markets. Managerial Finance."
   ]
  },
  {
   "cell_type": "code",
   "execution_count": null,
   "id": "8fc3d9f5",
   "metadata": {
    "ExecuteTime": {
     "end_time": "2020-08-30T21:20:32.431574Z",
     "start_time": "2020-08-30T21:20:32.429370Z"
    },
    "papermill": {
     "duration": null,
     "end_time": null,
     "exception": null,
     "start_time": null,
     "status": "pending"
    },
    "tags": []
   },
   "outputs": [],
   "source": [
    "print(f'Updated: {datetime.now(pytz.utc):%d-%b-%Y %H:%M}')"
   ]
  }
 ],
 "metadata": {
  "hide_input": false,
  "kernelspec": {
   "display_name": "Python 3 (ipykernel)",
   "language": "python",
   "name": "python3"
  },
  "language_info": {
   "codemirror_mode": {
    "name": "ipython",
    "version": 3
   },
   "file_extension": ".py",
   "mimetype": "text/x-python",
   "name": "python",
   "nbconvert_exporter": "python",
   "pygments_lexer": "ipython3",
   "version": "3.12.3"
  },
  "nav_menu": {},
  "papermill": {
   "default_parameters": {},
   "duration": null,
   "end_time": null,
   "environment_variables": {},
   "exception": null,
   "input_path": "notebooks/papermill/trend_following_breakout.ipynb",
   "output_path": "notebooks/trend_following_breakout.ipynb",
   "parameters": {},
   "start_time": "2024-06-17T09:38:24.663006",
   "version": "2.4.0"
  },
  "toc": {
   "base_numbering": 1,
   "nav_menu": {},
   "number_sections": true,
   "sideBar": true,
   "skip_h1_title": false,
   "title_cell": "Table of Contents",
   "title_sidebar": "Contents",
   "toc_cell": true,
   "toc_position": {
    "height": "calc(100% - 180px)",
    "left": "10px",
    "top": "150px",
    "width": "165px"
   },
   "toc_section_display": "block",
   "toc_window_display": true
  },
  "toc-showmarkdowntxt": false
 },
 "nbformat": 4,
 "nbformat_minor": 5
}